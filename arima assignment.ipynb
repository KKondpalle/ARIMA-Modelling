{
 "cells": [
  {
   "cell_type": "code",
   "execution_count": 1,
   "id": "4bd010fd",
   "metadata": {},
   "outputs": [],
   "source": [
    "import os\n",
    "os.chdir(\"C:\\\\Users\\\\kaust\\\\OneDrive\\Desktop\\\\Supply Chain Analytics\\\\Forecasting Assignment\")"
   ]
  },
  {
   "cell_type": "code",
   "execution_count": 3,
   "id": "5439552e",
   "metadata": {},
   "outputs": [],
   "source": [
    "import warnings \n",
    "import itertools\n",
    "import pandas as pd\n",
    "import numpy as np\n",
    "import seaborn as sns\n",
    "import statsmodels.api as sm\n",
    "import matplotlib.pyplot as plt\n",
    "plt.style.use(\"fivethirtyeight\")"
   ]
  },
  {
   "cell_type": "markdown",
   "id": "52aa48c1",
   "metadata": {},
   "source": [
    "### Convert retail_clean to monthly time series of total sales"
   ]
  },
  {
   "cell_type": "code",
   "execution_count": 4,
   "id": "2dc64790",
   "metadata": {},
   "outputs": [
    {
     "data": {
      "text/html": [
       "<div>\n",
       "<style scoped>\n",
       "    .dataframe tbody tr th:only-of-type {\n",
       "        vertical-align: middle;\n",
       "    }\n",
       "\n",
       "    .dataframe tbody tr th {\n",
       "        vertical-align: top;\n",
       "    }\n",
       "\n",
       "    .dataframe thead th {\n",
       "        text-align: right;\n",
       "    }\n",
       "</style>\n",
       "<table border=\"1\" class=\"dataframe\">\n",
       "  <thead>\n",
       "    <tr style=\"text-align: right;\">\n",
       "      <th></th>\n",
       "      <th>Unnamed: 0</th>\n",
       "      <th>Invoice</th>\n",
       "      <th>StockCode</th>\n",
       "      <th>Description</th>\n",
       "      <th>Quantity</th>\n",
       "      <th>InvoiceDate</th>\n",
       "      <th>Price</th>\n",
       "      <th>Customer ID</th>\n",
       "      <th>Country</th>\n",
       "      <th>Revenue</th>\n",
       "    </tr>\n",
       "  </thead>\n",
       "  <tbody>\n",
       "    <tr>\n",
       "      <th>0</th>\n",
       "      <td>0</td>\n",
       "      <td>489434</td>\n",
       "      <td>85048</td>\n",
       "      <td>15CM CHRISTMAS GLASS BALL 20 LIGHTS</td>\n",
       "      <td>12</td>\n",
       "      <td>2009-12-01 07:45:00</td>\n",
       "      <td>6.95</td>\n",
       "      <td>13085.0</td>\n",
       "      <td>United Kingdom</td>\n",
       "      <td>83.40</td>\n",
       "    </tr>\n",
       "    <tr>\n",
       "      <th>1</th>\n",
       "      <td>1</td>\n",
       "      <td>489434</td>\n",
       "      <td>79323P</td>\n",
       "      <td>PINK CHERRY LIGHTS</td>\n",
       "      <td>12</td>\n",
       "      <td>2009-12-01 07:45:00</td>\n",
       "      <td>6.75</td>\n",
       "      <td>13085.0</td>\n",
       "      <td>United Kingdom</td>\n",
       "      <td>81.00</td>\n",
       "    </tr>\n",
       "    <tr>\n",
       "      <th>2</th>\n",
       "      <td>2</td>\n",
       "      <td>489434</td>\n",
       "      <td>79323W</td>\n",
       "      <td>WHITE CHERRY LIGHTS</td>\n",
       "      <td>12</td>\n",
       "      <td>2009-12-01 07:45:00</td>\n",
       "      <td>6.75</td>\n",
       "      <td>13085.0</td>\n",
       "      <td>United Kingdom</td>\n",
       "      <td>81.00</td>\n",
       "    </tr>\n",
       "    <tr>\n",
       "      <th>3</th>\n",
       "      <td>3</td>\n",
       "      <td>489434</td>\n",
       "      <td>22041</td>\n",
       "      <td>RECORD FRAME 7\" SINGLE SIZE</td>\n",
       "      <td>48</td>\n",
       "      <td>2009-12-01 07:45:00</td>\n",
       "      <td>2.10</td>\n",
       "      <td>13085.0</td>\n",
       "      <td>United Kingdom</td>\n",
       "      <td>100.80</td>\n",
       "    </tr>\n",
       "    <tr>\n",
       "      <th>4</th>\n",
       "      <td>4</td>\n",
       "      <td>489434</td>\n",
       "      <td>21232</td>\n",
       "      <td>STRAWBERRY CERAMIC TRINKET BOX</td>\n",
       "      <td>24</td>\n",
       "      <td>2009-12-01 07:45:00</td>\n",
       "      <td>1.25</td>\n",
       "      <td>13085.0</td>\n",
       "      <td>United Kingdom</td>\n",
       "      <td>30.00</td>\n",
       "    </tr>\n",
       "    <tr>\n",
       "      <th>...</th>\n",
       "      <td>...</td>\n",
       "      <td>...</td>\n",
       "      <td>...</td>\n",
       "      <td>...</td>\n",
       "      <td>...</td>\n",
       "      <td>...</td>\n",
       "      <td>...</td>\n",
       "      <td>...</td>\n",
       "      <td>...</td>\n",
       "      <td>...</td>\n",
       "    </tr>\n",
       "    <tr>\n",
       "      <th>779490</th>\n",
       "      <td>1067366</td>\n",
       "      <td>581587</td>\n",
       "      <td>22899</td>\n",
       "      <td>CHILDREN'S APRON DOLLY GIRL</td>\n",
       "      <td>6</td>\n",
       "      <td>2011-12-09 12:50:00</td>\n",
       "      <td>2.10</td>\n",
       "      <td>12680.0</td>\n",
       "      <td>France</td>\n",
       "      <td>12.60</td>\n",
       "    </tr>\n",
       "    <tr>\n",
       "      <th>779491</th>\n",
       "      <td>1067367</td>\n",
       "      <td>581587</td>\n",
       "      <td>23254</td>\n",
       "      <td>CHILDRENS CUTLERY DOLLY GIRL</td>\n",
       "      <td>4</td>\n",
       "      <td>2011-12-09 12:50:00</td>\n",
       "      <td>4.15</td>\n",
       "      <td>12680.0</td>\n",
       "      <td>France</td>\n",
       "      <td>16.60</td>\n",
       "    </tr>\n",
       "    <tr>\n",
       "      <th>779492</th>\n",
       "      <td>1067368</td>\n",
       "      <td>581587</td>\n",
       "      <td>23255</td>\n",
       "      <td>CHILDRENS CUTLERY CIRCUS PARADE</td>\n",
       "      <td>4</td>\n",
       "      <td>2011-12-09 12:50:00</td>\n",
       "      <td>4.15</td>\n",
       "      <td>12680.0</td>\n",
       "      <td>France</td>\n",
       "      <td>16.60</td>\n",
       "    </tr>\n",
       "    <tr>\n",
       "      <th>779493</th>\n",
       "      <td>1067369</td>\n",
       "      <td>581587</td>\n",
       "      <td>22138</td>\n",
       "      <td>BAKING SET 9 PIECE RETROSPOT</td>\n",
       "      <td>3</td>\n",
       "      <td>2011-12-09 12:50:00</td>\n",
       "      <td>4.95</td>\n",
       "      <td>12680.0</td>\n",
       "      <td>France</td>\n",
       "      <td>14.85</td>\n",
       "    </tr>\n",
       "    <tr>\n",
       "      <th>779494</th>\n",
       "      <td>1067370</td>\n",
       "      <td>581587</td>\n",
       "      <td>POST</td>\n",
       "      <td>POSTAGE</td>\n",
       "      <td>1</td>\n",
       "      <td>2011-12-09 12:50:00</td>\n",
       "      <td>18.00</td>\n",
       "      <td>12680.0</td>\n",
       "      <td>France</td>\n",
       "      <td>18.00</td>\n",
       "    </tr>\n",
       "  </tbody>\n",
       "</table>\n",
       "<p>779495 rows × 10 columns</p>\n",
       "</div>"
      ],
      "text/plain": [
       "        Unnamed: 0  Invoice StockCode                          Description  \\\n",
       "0                0   489434     85048  15CM CHRISTMAS GLASS BALL 20 LIGHTS   \n",
       "1                1   489434    79323P                   PINK CHERRY LIGHTS   \n",
       "2                2   489434    79323W                  WHITE CHERRY LIGHTS   \n",
       "3                3   489434     22041         RECORD FRAME 7\" SINGLE SIZE    \n",
       "4                4   489434     21232       STRAWBERRY CERAMIC TRINKET BOX   \n",
       "...            ...      ...       ...                                  ...   \n",
       "779490     1067366   581587     22899         CHILDREN'S APRON DOLLY GIRL    \n",
       "779491     1067367   581587     23254        CHILDRENS CUTLERY DOLLY GIRL    \n",
       "779492     1067368   581587     23255      CHILDRENS CUTLERY CIRCUS PARADE   \n",
       "779493     1067369   581587     22138        BAKING SET 9 PIECE RETROSPOT    \n",
       "779494     1067370   581587      POST                              POSTAGE   \n",
       "\n",
       "        Quantity          InvoiceDate  Price  Customer ID         Country  \\\n",
       "0             12  2009-12-01 07:45:00   6.95      13085.0  United Kingdom   \n",
       "1             12  2009-12-01 07:45:00   6.75      13085.0  United Kingdom   \n",
       "2             12  2009-12-01 07:45:00   6.75      13085.0  United Kingdom   \n",
       "3             48  2009-12-01 07:45:00   2.10      13085.0  United Kingdom   \n",
       "4             24  2009-12-01 07:45:00   1.25      13085.0  United Kingdom   \n",
       "...          ...                  ...    ...          ...             ...   \n",
       "779490         6  2011-12-09 12:50:00   2.10      12680.0          France   \n",
       "779491         4  2011-12-09 12:50:00   4.15      12680.0          France   \n",
       "779492         4  2011-12-09 12:50:00   4.15      12680.0          France   \n",
       "779493         3  2011-12-09 12:50:00   4.95      12680.0          France   \n",
       "779494         1  2011-12-09 12:50:00  18.00      12680.0          France   \n",
       "\n",
       "        Revenue  \n",
       "0         83.40  \n",
       "1         81.00  \n",
       "2         81.00  \n",
       "3        100.80  \n",
       "4         30.00  \n",
       "...         ...  \n",
       "779490    12.60  \n",
       "779491    16.60  \n",
       "779492    16.60  \n",
       "779493    14.85  \n",
       "779494    18.00  \n",
       "\n",
       "[779495 rows x 10 columns]"
      ]
     },
     "execution_count": 4,
     "metadata": {},
     "output_type": "execute_result"
    }
   ],
   "source": [
    "data = pd.read_csv(\"retail_clean.csv\")\n",
    "data"
   ]
  },
  {
   "cell_type": "code",
   "execution_count": 5,
   "id": "8a4fbb75",
   "metadata": {},
   "outputs": [
    {
     "name": "stdout",
     "output_type": "stream",
     "text": [
      "<class 'pandas.core.frame.DataFrame'>\n",
      "RangeIndex: 779495 entries, 0 to 779494\n",
      "Data columns (total 10 columns):\n",
      " #   Column       Non-Null Count   Dtype  \n",
      "---  ------       --------------   -----  \n",
      " 0   Unnamed: 0   779495 non-null  int64  \n",
      " 1   Invoice      779495 non-null  int64  \n",
      " 2   StockCode    779495 non-null  object \n",
      " 3   Description  779495 non-null  object \n",
      " 4   Quantity     779495 non-null  int64  \n",
      " 5   InvoiceDate  779495 non-null  object \n",
      " 6   Price        779495 non-null  float64\n",
      " 7   Customer ID  779495 non-null  float64\n",
      " 8   Country      779495 non-null  object \n",
      " 9   Revenue      779495 non-null  float64\n",
      "dtypes: float64(3), int64(3), object(4)\n",
      "memory usage: 59.5+ MB\n"
     ]
    }
   ],
   "source": [
    "data.info()"
   ]
  },
  {
   "cell_type": "code",
   "execution_count": 6,
   "id": "6aed3246",
   "metadata": {},
   "outputs": [
    {
     "data": {
      "text/plain": [
       "0         2009-12-01 07:45:00\n",
       "1         2009-12-01 07:45:00\n",
       "2         2009-12-01 07:45:00\n",
       "3         2009-12-01 07:45:00\n",
       "4         2009-12-01 07:45:00\n",
       "                 ...         \n",
       "779490    2011-12-09 12:50:00\n",
       "779491    2011-12-09 12:50:00\n",
       "779492    2011-12-09 12:50:00\n",
       "779493    2011-12-09 12:50:00\n",
       "779494    2011-12-09 12:50:00\n",
       "Name: InvoiceDate, Length: 779495, dtype: object"
      ]
     },
     "execution_count": 6,
     "metadata": {},
     "output_type": "execute_result"
    }
   ],
   "source": [
    "data.InvoiceDate"
   ]
  },
  {
   "cell_type": "code",
   "execution_count": 16,
   "id": "b78e0757",
   "metadata": {},
   "outputs": [],
   "source": [
    "data['InvoiceDate'] = pd.to_datetime(data['InvoiceDate'])\n",
    "data['date'] = data['InvoiceDate'].dt.strftime(\"%d-%m-%y\")\n",
    "data['date'] = pd.to_datetime(data['date'])"
   ]
  },
  {
   "cell_type": "code",
   "execution_count": 9,
   "id": "dd2ce7c3",
   "metadata": {},
   "outputs": [
    {
     "name": "stdout",
     "output_type": "stream",
     "text": [
      "<class 'pandas.core.frame.DataFrame'>\n",
      "RangeIndex: 779495 entries, 0 to 779494\n",
      "Data columns (total 11 columns):\n",
      " #   Column       Non-Null Count   Dtype         \n",
      "---  ------       --------------   -----         \n",
      " 0   Unnamed: 0   779495 non-null  int64         \n",
      " 1   Invoice      779495 non-null  int64         \n",
      " 2   StockCode    779495 non-null  object        \n",
      " 3   Description  779495 non-null  object        \n",
      " 4   Quantity     779495 non-null  int64         \n",
      " 5   InvoiceDate  779495 non-null  datetime64[ns]\n",
      " 6   Price        779495 non-null  float64       \n",
      " 7   Customer ID  779495 non-null  float64       \n",
      " 8   Country      779495 non-null  object        \n",
      " 9   Revenue      779495 non-null  float64       \n",
      " 10  date         779495 non-null  datetime64[ns]\n",
      "dtypes: datetime64[ns](2), float64(3), int64(3), object(3)\n",
      "memory usage: 65.4+ MB\n"
     ]
    }
   ],
   "source": [
    "data.info()"
   ]
  },
  {
   "cell_type": "code",
   "execution_count": 17,
   "id": "190c432f",
   "metadata": {},
   "outputs": [
    {
     "name": "stderr",
     "output_type": "stream",
     "text": [
      "C:\\Users\\kaust\\AppData\\Local\\Temp\\ipykernel_40856\\3036010110.py:3: FutureWarning: Series.dt.weekofyear and Series.dt.week have been deprecated.  Please use Series.dt.isocalendar().week instead.\n",
      "  data['week'] = data.date.dt.week\n"
     ]
    }
   ],
   "source": [
    "data['month'] = data.date.dt.month\n",
    "data['year'] = data.date.dt.year\n",
    "data['week'] = data.date.dt.week"
   ]
  },
  {
   "cell_type": "code",
   "execution_count": 18,
   "id": "d95a7199",
   "metadata": {},
   "outputs": [
    {
     "data": {
      "text/html": [
       "<div>\n",
       "<style scoped>\n",
       "    .dataframe tbody tr th:only-of-type {\n",
       "        vertical-align: middle;\n",
       "    }\n",
       "\n",
       "    .dataframe tbody tr th {\n",
       "        vertical-align: top;\n",
       "    }\n",
       "\n",
       "    .dataframe thead th {\n",
       "        text-align: right;\n",
       "    }\n",
       "</style>\n",
       "<table border=\"1\" class=\"dataframe\">\n",
       "  <thead>\n",
       "    <tr style=\"text-align: right;\">\n",
       "      <th></th>\n",
       "      <th>Unnamed: 0</th>\n",
       "      <th>Invoice</th>\n",
       "      <th>StockCode</th>\n",
       "      <th>Description</th>\n",
       "      <th>Quantity</th>\n",
       "      <th>InvoiceDate</th>\n",
       "      <th>Price</th>\n",
       "      <th>Customer ID</th>\n",
       "      <th>Country</th>\n",
       "      <th>Revenue</th>\n",
       "      <th>date</th>\n",
       "      <th>month</th>\n",
       "      <th>year</th>\n",
       "      <th>week</th>\n",
       "    </tr>\n",
       "  </thead>\n",
       "  <tbody>\n",
       "    <tr>\n",
       "      <th>0</th>\n",
       "      <td>0</td>\n",
       "      <td>489434</td>\n",
       "      <td>85048</td>\n",
       "      <td>15CM CHRISTMAS GLASS BALL 20 LIGHTS</td>\n",
       "      <td>12</td>\n",
       "      <td>2009-12-01 07:45:00</td>\n",
       "      <td>6.95</td>\n",
       "      <td>13085.0</td>\n",
       "      <td>United Kingdom</td>\n",
       "      <td>83.40</td>\n",
       "      <td>2009-01-12</td>\n",
       "      <td>1</td>\n",
       "      <td>2009</td>\n",
       "      <td>3</td>\n",
       "    </tr>\n",
       "    <tr>\n",
       "      <th>1</th>\n",
       "      <td>1</td>\n",
       "      <td>489434</td>\n",
       "      <td>79323P</td>\n",
       "      <td>PINK CHERRY LIGHTS</td>\n",
       "      <td>12</td>\n",
       "      <td>2009-12-01 07:45:00</td>\n",
       "      <td>6.75</td>\n",
       "      <td>13085.0</td>\n",
       "      <td>United Kingdom</td>\n",
       "      <td>81.00</td>\n",
       "      <td>2009-01-12</td>\n",
       "      <td>1</td>\n",
       "      <td>2009</td>\n",
       "      <td>3</td>\n",
       "    </tr>\n",
       "    <tr>\n",
       "      <th>2</th>\n",
       "      <td>2</td>\n",
       "      <td>489434</td>\n",
       "      <td>79323W</td>\n",
       "      <td>WHITE CHERRY LIGHTS</td>\n",
       "      <td>12</td>\n",
       "      <td>2009-12-01 07:45:00</td>\n",
       "      <td>6.75</td>\n",
       "      <td>13085.0</td>\n",
       "      <td>United Kingdom</td>\n",
       "      <td>81.00</td>\n",
       "      <td>2009-01-12</td>\n",
       "      <td>1</td>\n",
       "      <td>2009</td>\n",
       "      <td>3</td>\n",
       "    </tr>\n",
       "    <tr>\n",
       "      <th>3</th>\n",
       "      <td>3</td>\n",
       "      <td>489434</td>\n",
       "      <td>22041</td>\n",
       "      <td>RECORD FRAME 7\" SINGLE SIZE</td>\n",
       "      <td>48</td>\n",
       "      <td>2009-12-01 07:45:00</td>\n",
       "      <td>2.10</td>\n",
       "      <td>13085.0</td>\n",
       "      <td>United Kingdom</td>\n",
       "      <td>100.80</td>\n",
       "      <td>2009-01-12</td>\n",
       "      <td>1</td>\n",
       "      <td>2009</td>\n",
       "      <td>3</td>\n",
       "    </tr>\n",
       "    <tr>\n",
       "      <th>4</th>\n",
       "      <td>4</td>\n",
       "      <td>489434</td>\n",
       "      <td>21232</td>\n",
       "      <td>STRAWBERRY CERAMIC TRINKET BOX</td>\n",
       "      <td>24</td>\n",
       "      <td>2009-12-01 07:45:00</td>\n",
       "      <td>1.25</td>\n",
       "      <td>13085.0</td>\n",
       "      <td>United Kingdom</td>\n",
       "      <td>30.00</td>\n",
       "      <td>2009-01-12</td>\n",
       "      <td>1</td>\n",
       "      <td>2009</td>\n",
       "      <td>3</td>\n",
       "    </tr>\n",
       "    <tr>\n",
       "      <th>...</th>\n",
       "      <td>...</td>\n",
       "      <td>...</td>\n",
       "      <td>...</td>\n",
       "      <td>...</td>\n",
       "      <td>...</td>\n",
       "      <td>...</td>\n",
       "      <td>...</td>\n",
       "      <td>...</td>\n",
       "      <td>...</td>\n",
       "      <td>...</td>\n",
       "      <td>...</td>\n",
       "      <td>...</td>\n",
       "      <td>...</td>\n",
       "      <td>...</td>\n",
       "    </tr>\n",
       "    <tr>\n",
       "      <th>779490</th>\n",
       "      <td>1067366</td>\n",
       "      <td>581587</td>\n",
       "      <td>22899</td>\n",
       "      <td>CHILDREN'S APRON DOLLY GIRL</td>\n",
       "      <td>6</td>\n",
       "      <td>2011-12-09 12:50:00</td>\n",
       "      <td>2.10</td>\n",
       "      <td>12680.0</td>\n",
       "      <td>France</td>\n",
       "      <td>12.60</td>\n",
       "      <td>2011-09-12</td>\n",
       "      <td>9</td>\n",
       "      <td>2011</td>\n",
       "      <td>37</td>\n",
       "    </tr>\n",
       "    <tr>\n",
       "      <th>779491</th>\n",
       "      <td>1067367</td>\n",
       "      <td>581587</td>\n",
       "      <td>23254</td>\n",
       "      <td>CHILDRENS CUTLERY DOLLY GIRL</td>\n",
       "      <td>4</td>\n",
       "      <td>2011-12-09 12:50:00</td>\n",
       "      <td>4.15</td>\n",
       "      <td>12680.0</td>\n",
       "      <td>France</td>\n",
       "      <td>16.60</td>\n",
       "      <td>2011-09-12</td>\n",
       "      <td>9</td>\n",
       "      <td>2011</td>\n",
       "      <td>37</td>\n",
       "    </tr>\n",
       "    <tr>\n",
       "      <th>779492</th>\n",
       "      <td>1067368</td>\n",
       "      <td>581587</td>\n",
       "      <td>23255</td>\n",
       "      <td>CHILDRENS CUTLERY CIRCUS PARADE</td>\n",
       "      <td>4</td>\n",
       "      <td>2011-12-09 12:50:00</td>\n",
       "      <td>4.15</td>\n",
       "      <td>12680.0</td>\n",
       "      <td>France</td>\n",
       "      <td>16.60</td>\n",
       "      <td>2011-09-12</td>\n",
       "      <td>9</td>\n",
       "      <td>2011</td>\n",
       "      <td>37</td>\n",
       "    </tr>\n",
       "    <tr>\n",
       "      <th>779493</th>\n",
       "      <td>1067369</td>\n",
       "      <td>581587</td>\n",
       "      <td>22138</td>\n",
       "      <td>BAKING SET 9 PIECE RETROSPOT</td>\n",
       "      <td>3</td>\n",
       "      <td>2011-12-09 12:50:00</td>\n",
       "      <td>4.95</td>\n",
       "      <td>12680.0</td>\n",
       "      <td>France</td>\n",
       "      <td>14.85</td>\n",
       "      <td>2011-09-12</td>\n",
       "      <td>9</td>\n",
       "      <td>2011</td>\n",
       "      <td>37</td>\n",
       "    </tr>\n",
       "    <tr>\n",
       "      <th>779494</th>\n",
       "      <td>1067370</td>\n",
       "      <td>581587</td>\n",
       "      <td>POST</td>\n",
       "      <td>POSTAGE</td>\n",
       "      <td>1</td>\n",
       "      <td>2011-12-09 12:50:00</td>\n",
       "      <td>18.00</td>\n",
       "      <td>12680.0</td>\n",
       "      <td>France</td>\n",
       "      <td>18.00</td>\n",
       "      <td>2011-09-12</td>\n",
       "      <td>9</td>\n",
       "      <td>2011</td>\n",
       "      <td>37</td>\n",
       "    </tr>\n",
       "  </tbody>\n",
       "</table>\n",
       "<p>779495 rows × 14 columns</p>\n",
       "</div>"
      ],
      "text/plain": [
       "        Unnamed: 0  Invoice StockCode                          Description  \\\n",
       "0                0   489434     85048  15CM CHRISTMAS GLASS BALL 20 LIGHTS   \n",
       "1                1   489434    79323P                   PINK CHERRY LIGHTS   \n",
       "2                2   489434    79323W                  WHITE CHERRY LIGHTS   \n",
       "3                3   489434     22041         RECORD FRAME 7\" SINGLE SIZE    \n",
       "4                4   489434     21232       STRAWBERRY CERAMIC TRINKET BOX   \n",
       "...            ...      ...       ...                                  ...   \n",
       "779490     1067366   581587     22899         CHILDREN'S APRON DOLLY GIRL    \n",
       "779491     1067367   581587     23254        CHILDRENS CUTLERY DOLLY GIRL    \n",
       "779492     1067368   581587     23255      CHILDRENS CUTLERY CIRCUS PARADE   \n",
       "779493     1067369   581587     22138        BAKING SET 9 PIECE RETROSPOT    \n",
       "779494     1067370   581587      POST                              POSTAGE   \n",
       "\n",
       "        Quantity         InvoiceDate  Price  Customer ID         Country  \\\n",
       "0             12 2009-12-01 07:45:00   6.95      13085.0  United Kingdom   \n",
       "1             12 2009-12-01 07:45:00   6.75      13085.0  United Kingdom   \n",
       "2             12 2009-12-01 07:45:00   6.75      13085.0  United Kingdom   \n",
       "3             48 2009-12-01 07:45:00   2.10      13085.0  United Kingdom   \n",
       "4             24 2009-12-01 07:45:00   1.25      13085.0  United Kingdom   \n",
       "...          ...                 ...    ...          ...             ...   \n",
       "779490         6 2011-12-09 12:50:00   2.10      12680.0          France   \n",
       "779491         4 2011-12-09 12:50:00   4.15      12680.0          France   \n",
       "779492         4 2011-12-09 12:50:00   4.15      12680.0          France   \n",
       "779493         3 2011-12-09 12:50:00   4.95      12680.0          France   \n",
       "779494         1 2011-12-09 12:50:00  18.00      12680.0          France   \n",
       "\n",
       "        Revenue       date  month  year  week  \n",
       "0         83.40 2009-01-12      1  2009     3  \n",
       "1         81.00 2009-01-12      1  2009     3  \n",
       "2         81.00 2009-01-12      1  2009     3  \n",
       "3        100.80 2009-01-12      1  2009     3  \n",
       "4         30.00 2009-01-12      1  2009     3  \n",
       "...         ...        ...    ...   ...   ...  \n",
       "779490    12.60 2011-09-12      9  2011    37  \n",
       "779491    16.60 2011-09-12      9  2011    37  \n",
       "779492    16.60 2011-09-12      9  2011    37  \n",
       "779493    14.85 2011-09-12      9  2011    37  \n",
       "779494    18.00 2011-09-12      9  2011    37  \n",
       "\n",
       "[779495 rows x 14 columns]"
      ]
     },
     "execution_count": 18,
     "metadata": {},
     "output_type": "execute_result"
    }
   ],
   "source": [
    "data"
   ]
  },
  {
   "cell_type": "code",
   "execution_count": 19,
   "id": "97bcdfdd",
   "metadata": {},
   "outputs": [],
   "source": [
    "time_series = data.groupby(['month','week','year']).agg(date = ('date','first'),\n",
    "                                          total_sales = ('Quantity', np.sum)).reset_index().sort_values('date')"
   ]
  },
  {
   "cell_type": "code",
   "execution_count": 22,
   "id": "fb48ec0f",
   "metadata": {},
   "outputs": [
    {
     "name": "stdout",
     "output_type": "stream",
     "text": [
      "<class 'pandas.core.frame.DataFrame'>\n",
      "Int64Index: 133 entries, 4 to 127\n",
      "Data columns (total 5 columns):\n",
      " #   Column       Non-Null Count  Dtype         \n",
      "---  ------       --------------  -----         \n",
      " 0   month        133 non-null    int64         \n",
      " 1   week         133 non-null    int64         \n",
      " 2   year         133 non-null    int64         \n",
      " 3   date         133 non-null    datetime64[ns]\n",
      " 4   total_sales  133 non-null    int64         \n",
      "dtypes: datetime64[ns](1), int64(4)\n",
      "memory usage: 6.2 KB\n"
     ]
    }
   ],
   "source": [
    "time_series.info()"
   ]
  },
  {
   "cell_type": "markdown",
   "id": "72e6f19f",
   "metadata": {},
   "source": [
    "## Plot for trend, Seasonality and Remainder"
   ]
  },
  {
   "cell_type": "code",
   "execution_count": 23,
   "id": "d4bf02d7",
   "metadata": {},
   "outputs": [],
   "source": [
    "time_series = time_series.set_index('date')"
   ]
  },
  {
   "cell_type": "code",
   "execution_count": 24,
   "id": "b58ba233",
   "metadata": {},
   "outputs": [],
   "source": [
    "monthly_series = time_series.total_sales.resample('M').sum()"
   ]
  },
  {
   "cell_type": "code",
   "execution_count": 25,
   "id": "a6289243",
   "metadata": {},
   "outputs": [
    {
     "data": {
      "text/plain": [
       "<AxesSubplot:xlabel='date'>"
      ]
     },
     "execution_count": 25,
     "metadata": {},
     "output_type": "execute_result"
    },
    {
     "data": {
      "image/png": "[encoded data removed]",
      "text/plain": [
       "<Figure size 432x288 with 1 Axes>"
      ]
     },
     "metadata": {},
     "output_type": "display_data"
    }
   ],
   "source": [
    "monthly_series.plot()"
   ]
  },
  {
   "cell_type": "code",
   "execution_count": 26,
   "id": "045200a9",
   "metadata": {},
   "outputs": [],
   "source": [
    "components = sm.tsa.seasonal_decompose(monthly_series)"
   ]
  },
  {
   "cell_type": "code",
   "execution_count": 29,
   "id": "94893c9b",
   "metadata": {},
   "outputs": [
    {
     "data": {
      "image/png": "[encoded data removed]",
      "text/plain": [
       "<Figure size 432x288 with 4 Axes>"
      ]
     },
     "execution_count": 29,
     "metadata": {},
     "output_type": "execute_result"
    },
    {
     "data": {
      "image/png": "[encoded data removed]",
      "text/plain": [
       "<Figure size 432x288 with 4 Axes>"
      ]
     },
     "metadata": {},
     "output_type": "display_data"
    }
   ],
   "source": [
    "components.plot()"
   ]
  },
  {
   "cell_type": "code",
   "execution_count": 31,
   "id": "ff499c2a",
   "metadata": {},
   "outputs": [],
   "source": [
    "trend = components.trend\n",
    "seasonality = components.seasonal\n",
    "remainder = components.resid"
   ]
  },
  {
   "cell_type": "code",
   "execution_count": 32,
   "id": "f436f9ab",
   "metadata": {},
   "outputs": [
    {
     "data": {
      "text/plain": [
       "<AxesSubplot:xlabel='date'>"
      ]
     },
     "execution_count": 32,
     "metadata": {},
     "output_type": "execute_result"
    },
    {
     "data": {
      "image/png": "[encoded data removed]",
      "text/plain": [
       "<Figure size 432x288 with 1 Axes>"
      ]
     },
     "metadata": {},
     "output_type": "display_data"
    }
   ],
   "source": [
    "trend.plot()"
   ]
  },
  {
   "cell_type": "code",
   "execution_count": 33,
   "id": "bdc70c56",
   "metadata": {},
   "outputs": [
    {
     "data": {
      "text/plain": [
       "<AxesSubplot:xlabel='date'>"
      ]
     },
     "execution_count": 33,
     "metadata": {},
     "output_type": "execute_result"
    },
    {
     "data": {
      "image/png": "[encoded data removed]",
      "text/plain": [
       "<Figure size 432x288 with 1 Axes>"
      ]
     },
     "metadata": {},
     "output_type": "display_data"
    }
   ],
   "source": [
    "seasonality.plot()"
   ]
  },
  {
   "cell_type": "code",
   "execution_count": 34,
   "id": "ebf6ee46",
   "metadata": {},
   "outputs": [
    {
     "data": {
      "text/plain": [
       "<AxesSubplot:xlabel='date'>"
      ]
     },
     "execution_count": 34,
     "metadata": {},
     "output_type": "execute_result"
    },
    {
     "data": {
      "image/png": "[encoded data removed]",
      "text/plain": [
       "<Figure size 432x288 with 1 Axes>"
      ]
     },
     "metadata": {},
     "output_type": "display_data"
    }
   ],
   "source": [
    "remainder.plot()"
   ]
  },
  {
   "cell_type": "code",
   "execution_count": 35,
   "id": "f033e43d",
   "metadata": {},
   "outputs": [],
   "source": [
    "ad_fuller_test = sm.tsa.stattools.adfuller(monthly_series, autolag= 'AIC')"
   ]
  },
  {
   "cell_type": "code",
   "execution_count": 38,
   "id": "d1431fdb",
   "metadata": {},
   "outputs": [
    {
     "data": {
      "text/plain": [
       "(-1.6172736939613381,\n",
       " 0.4741588821031129,\n",
       " 3,\n",
       " 32,\n",
       " {'1%': -3.653519805908203,\n",
       "  '5%': -2.9572185644531253,\n",
       "  '10%': -2.6175881640625},\n",
       " 649.5468894459195)"
      ]
     },
     "execution_count": 38,
     "metadata": {},
     "output_type": "execute_result"
    }
   ],
   "source": [
    "ad_fuller_test"
   ]
  },
  {
   "cell_type": "code",
   "execution_count": 39,
   "id": "d7dffc20",
   "metadata": {},
   "outputs": [],
   "source": [
    "from statsmodels.graphics.tsaplots import plot_acf, plot_pacf"
   ]
  },
  {
   "cell_type": "code",
   "execution_count": 40,
   "id": "2ce540e1",
   "metadata": {},
   "outputs": [
    {
     "data": {
      "image/png": "[encoded data removed]",
      "text/plain": [
       "<Figure size 432x288 with 1 Axes>"
      ]
     },
     "execution_count": 40,
     "metadata": {},
     "output_type": "execute_result"
    },
    {
     "data": {
      "image/png": "[encoded data removed]",
      "text/plain": [
       "<Figure size 432x288 with 1 Axes>"
      ]
     },
     "metadata": {},
     "output_type": "display_data"
    }
   ],
   "source": [
    "plot_acf(monthly_series)"
   ]
  },
  {
   "cell_type": "code",
   "execution_count": 41,
   "id": "578f7ead",
   "metadata": {},
   "outputs": [
    {
     "data": {
      "image/png": "[encoded data removed]",
      "text/plain": [
       "<Figure size 432x288 with 1 Axes>"
      ]
     },
     "execution_count": 41,
     "metadata": {},
     "output_type": "execute_result"
    },
    {
     "data": {
      "image/png": "[encoded data removed]",
      "text/plain": [
       "<Figure size 432x288 with 1 Axes>"
      ]
     },
     "metadata": {},
     "output_type": "display_data"
    }
   ],
   "source": [
    "plot_pacf(monthly_series)"
   ]
  },
  {
   "cell_type": "markdown",
   "id": "eac26b34",
   "metadata": {},
   "source": [
    "## Fit the time series to a moving average model, Find the AIC."
   ]
  },
  {
   "cell_type": "code",
   "execution_count": 42,
   "id": "020812c6",
   "metadata": {},
   "outputs": [],
   "source": [
    "model_ma = sm.tsa.statespace.SARIMAX(monthly_series, order = (0,0,1))"
   ]
  },
  {
   "cell_type": "code",
   "execution_count": 43,
   "id": "6011e68d",
   "metadata": {},
   "outputs": [
    {
     "name": "stderr",
     "output_type": "stream",
     "text": [
      "C:\\Users\\kaust\\anaconda3\\lib\\site-packages\\statsmodels\\tsa\\statespace\\sarimax.py:978: UserWarning: Non-invertible starting MA parameters found. Using zeros as starting parameters.\n",
      "  warn('Non-invertible starting MA parameters found.'\n"
     ]
    }
   ],
   "source": [
    "results = model_ma.fit()"
   ]
  },
  {
   "cell_type": "code",
   "execution_count": 44,
   "id": "a681070f",
   "metadata": {},
   "outputs": [
    {
     "data": {
      "text/plain": [
       "<statsmodels.tsa.statespace.sarimax.SARIMAXResultsWrapper at 0x1de60c52eb0>"
      ]
     },
     "execution_count": 44,
     "metadata": {},
     "output_type": "execute_result"
    }
   ],
   "source": [
    "results"
   ]
  },
  {
   "cell_type": "code",
   "execution_count": 45,
   "id": "5dfcafa6",
   "metadata": {},
   "outputs": [
    {
     "data": {
      "text/plain": [
       "1007.2704067129008"
      ]
     },
     "execution_count": 45,
     "metadata": {},
     "output_type": "execute_result"
    }
   ],
   "source": [
    "results.aic"
   ]
  },
  {
   "cell_type": "code",
   "execution_count": 46,
   "id": "fc8cba94",
   "metadata": {},
   "outputs": [],
   "source": [
    "model_ma_1 = sm.tsa.statespace.SARIMAX(monthly_series, order = (0,0,2))"
   ]
  },
  {
   "cell_type": "code",
   "execution_count": 47,
   "id": "3f9bbf5c",
   "metadata": {},
   "outputs": [
    {
     "name": "stderr",
     "output_type": "stream",
     "text": [
      "C:\\Users\\kaust\\anaconda3\\lib\\site-packages\\statsmodels\\tsa\\statespace\\sarimax.py:978: UserWarning: Non-invertible starting MA parameters found. Using zeros as starting parameters.\n",
      "  warn('Non-invertible starting MA parameters found.'\n"
     ]
    }
   ],
   "source": [
    "results1 = model_ma_1.fit()"
   ]
  },
  {
   "cell_type": "code",
   "execution_count": 48,
   "id": "090e6cc0",
   "metadata": {},
   "outputs": [
    {
     "data": {
      "text/plain": [
       "998.1303270989391"
      ]
     },
     "execution_count": 48,
     "metadata": {},
     "output_type": "execute_result"
    }
   ],
   "source": [
    "results1.aic"
   ]
  },
  {
   "cell_type": "code",
   "execution_count": 49,
   "id": "e6c247d9",
   "metadata": {},
   "outputs": [
    {
     "name": "stderr",
     "output_type": "stream",
     "text": [
      "C:\\Users\\kaust\\anaconda3\\lib\\site-packages\\statsmodels\\tsa\\statespace\\sarimax.py:978: UserWarning: Non-invertible starting MA parameters found. Using zeros as starting parameters.\n",
      "  warn('Non-invertible starting MA parameters found.'\n"
     ]
    },
    {
     "data": {
      "text/plain": [
       "998.5642530575715"
      ]
     },
     "execution_count": 49,
     "metadata": {},
     "output_type": "execute_result"
    }
   ],
   "source": [
    "model_ma_2 = sm.tsa.statespace.SARIMAX(monthly_series, order = (0,0,3))\n",
    "results2 = model_ma_2.fit()\n",
    "results2.aic"
   ]
  },
  {
   "cell_type": "code",
   "execution_count": 50,
   "id": "1fce2ba0",
   "metadata": {},
   "outputs": [
    {
     "data": {
      "text/plain": [
       "1000.7559214419796"
      ]
     },
     "execution_count": 50,
     "metadata": {},
     "output_type": "execute_result"
    }
   ],
   "source": [
    "model_ma_3 = sm.tsa.statespace.SARIMAX(monthly_series, order = (0,0,4))\n",
    "results3 = model_ma_3.fit()\n",
    "results3.aic"
   ]
  },
  {
   "cell_type": "code",
   "execution_count": 51,
   "id": "37915350",
   "metadata": {},
   "outputs": [
    {
     "data": {
      "text/plain": [
       "1000.8631448279948"
      ]
     },
     "execution_count": 51,
     "metadata": {},
     "output_type": "execute_result"
    }
   ],
   "source": [
    "model_ma_4 = sm.tsa.statespace.SARIMAX(monthly_series, order = (0,0,5))\n",
    "results4 = model_ma_4.fit()\n",
    "results4.aic"
   ]
  },
  {
   "cell_type": "markdown",
   "id": "8d5dd387",
   "metadata": {},
   "source": [
    "## Fit the time series to an AR model, Find the AIC"
   ]
  },
  {
   "cell_type": "code",
   "execution_count": 52,
   "id": "fd586e6b",
   "metadata": {},
   "outputs": [
    {
     "data": {
      "text/plain": [
       "953.2549432657275"
      ]
     },
     "execution_count": 52,
     "metadata": {},
     "output_type": "execute_result"
    }
   ],
   "source": [
    "model_ar = sm.tsa.statespace.SARIMAX(monthly_series, order = (1,0,0))\n",
    "results = model_ar.fit()\n",
    "results.aic"
   ]
  },
  {
   "cell_type": "code",
   "execution_count": 53,
   "id": "010d0618",
   "metadata": {},
   "outputs": [
    {
     "data": {
      "text/plain": [
       "950.6493579660155"
      ]
     },
     "execution_count": 53,
     "metadata": {},
     "output_type": "execute_result"
    }
   ],
   "source": [
    "model_ar_1 = sm.tsa.statespace.SARIMAX(monthly_series, order = (2,0,0))\n",
    "results1 = model_ar_1.fit()\n",
    "results1.aic"
   ]
  },
  {
   "cell_type": "code",
   "execution_count": 54,
   "id": "00bce1f7",
   "metadata": {},
   "outputs": [
    {
     "data": {
      "text/plain": [
       "946.0788453611477"
      ]
     },
     "execution_count": 54,
     "metadata": {},
     "output_type": "execute_result"
    }
   ],
   "source": [
    "model_ar_2 = sm.tsa.statespace.SARIMAX(monthly_series, order = (3,0,0))\n",
    "results2 = model_ar_2.fit()\n",
    "results2.aic"
   ]
  },
  {
   "cell_type": "code",
   "execution_count": 57,
   "id": "13af4628",
   "metadata": {},
   "outputs": [
    {
     "data": {
      "text/plain": [
       "946.0788453611477"
      ]
     },
     "execution_count": 57,
     "metadata": {},
     "output_type": "execute_result"
    }
   ],
   "source": [
    "model_ar_3 = sm.tsa.statespace.SARIMAX(monthly_series, order = (4,0,0))\n",
    "results2 = model_ar_2.fit()\n",
    "results2.aic"
   ]
  },
  {
   "cell_type": "code",
   "execution_count": 72,
   "id": "5f7978be",
   "metadata": {},
   "outputs": [
    {
     "data": {
      "text/plain": [
       "941.3792378517965"
      ]
     },
     "execution_count": 72,
     "metadata": {},
     "output_type": "execute_result"
    }
   ],
   "source": [
    "model_ar_4 = sm.tsa.statespace.SARIMAX(monthly_series, order = (4,0,0))\n",
    "results3= model_ar_4.fit()\n",
    "results3.aic"
   ]
  },
  {
   "cell_type": "markdown",
   "id": "2e990edc",
   "metadata": {},
   "source": [
    "## Fit the time series to an ARIMA model, Find the AIC"
   ]
  },
  {
   "cell_type": "code",
   "execution_count": 74,
   "id": "fdb2b647",
   "metadata": {},
   "outputs": [
    {
     "data": {
      "text/plain": [
       "915.0603564254284"
      ]
     },
     "execution_count": 74,
     "metadata": {},
     "output_type": "execute_result"
    }
   ],
   "source": [
    "model_arima = sm.tsa.statespace.SARIMAX(monthly_series, order = (1,1,1))\n",
    "results= model_arima.fit()\n",
    "results.aic"
   ]
  },
  {
   "cell_type": "code",
   "execution_count": 78,
   "id": "75f16d78",
   "metadata": {},
   "outputs": [
    {
     "data": {
      "text/plain": [
       "915.1770940610058"
      ]
     },
     "execution_count": 78,
     "metadata": {},
     "output_type": "execute_result"
    }
   ],
   "source": [
    "model_arima = sm.tsa.statespace.SARIMAX(monthly_series, order = (2,1,1))\n",
    "results= model_arima.fit()\n",
    "results.aic"
   ]
  },
  {
   "cell_type": "code",
   "execution_count": 79,
   "id": "eeb9fa88",
   "metadata": {},
   "outputs": [
    {
     "data": {
      "text/plain": [
       "894.953365096745"
      ]
     },
     "execution_count": 79,
     "metadata": {},
     "output_type": "execute_result"
    }
   ],
   "source": [
    "model_arima = sm.tsa.statespace.SARIMAX(monthly_series, order = (1,2,1))\n",
    "results= model_arima.fit()\n",
    "results.aic"
   ]
  },
  {
   "cell_type": "code",
   "execution_count": 80,
   "id": "74395cb4",
   "metadata": {},
   "outputs": [
    {
     "data": {
      "text/plain": [
       "915.2652939649107"
      ]
     },
     "execution_count": 80,
     "metadata": {},
     "output_type": "execute_result"
    }
   ],
   "source": [
    "model_arima = sm.tsa.statespace.SARIMAX(monthly_series, order = (1,1,2))\n",
    "results= model_arima.fit()\n",
    "results.aic"
   ]
  },
  {
   "cell_type": "code",
   "execution_count": 81,
   "id": "41d2b78a",
   "metadata": {},
   "outputs": [
    {
     "data": {
      "text/plain": [
       "895.5384663256546"
      ]
     },
     "execution_count": 81,
     "metadata": {},
     "output_type": "execute_result"
    }
   ],
   "source": [
    "model_arima = sm.tsa.statespace.SARIMAX(monthly_series, order = (2,2,2))\n",
    "results= model_arima.fit()\n",
    "results.aic"
   ]
  },
  {
   "cell_type": "markdown",
   "id": "a684a1e9",
   "metadata": {},
   "source": [
    "## Do a search on the SARIMA components using intercools ,Find the model with the lowest AIC \n"
   ]
  },
  {
   "cell_type": "code",
   "execution_count": 82,
   "id": "29bb6492",
   "metadata": {},
   "outputs": [],
   "source": [
    "import itertools"
   ]
  },
  {
   "cell_type": "code",
   "execution_count": 83,
   "id": "ced40d79",
   "metadata": {},
   "outputs": [],
   "source": [
    "P=D=Q=p=d=q=range(0,3)\n",
    "s=12"
   ]
  },
  {
   "cell_type": "code",
   "execution_count": 84,
   "id": "489649bf",
   "metadata": {},
   "outputs": [],
   "source": [
    "combinations = list(itertools.product(p,d,q,P,D,Q))"
   ]
  },
  {
   "cell_type": "code",
   "execution_count": 85,
   "id": "5ac80913",
   "metadata": {},
   "outputs": [
    {
     "data": {
      "text/plain": [
       "0"
      ]
     },
     "execution_count": 85,
     "metadata": {},
     "output_type": "execute_result"
    }
   ],
   "source": [
    "arima_order = [(x[0],x[1],x[2]) for x in combinations]\n",
    "arima_order[0][0]"
   ]
  },
  {
   "cell_type": "code",
   "execution_count": 90,
   "id": "fdb7a064",
   "metadata": {},
   "outputs": [],
   "source": [
    "results_data = pd.DataFrame(columns=['p','d','q','P','D','Q','AIC'])"
   ]
  },
  {
   "cell_type": "code",
   "execution_count": 87,
   "id": "5e8d260b",
   "metadata": {},
   "outputs": [],
   "source": [
    "seasonal_order = [(x[3],x[4],x[5],s) for x in combinations]"
   ]
  },
  {
   "cell_type": "code",
   "execution_count": 92,
   "id": "50d52e7b",
   "metadata": {
    "scrolled": true
   },
   "outputs": [
    {
     "name": "stderr",
     "output_type": "stream",
     "text": [
      "C:\\Users\\kaust\\anaconda3\\lib\\site-packages\\statsmodels\\tsa\\statespace\\sarimax.py:866: UserWarning: Too few observations to estimate starting parameters for seasonal ARMA. All parameters except for variances will be set to zeros.\n",
      "  warn('Too few observations to estimate starting parameters%s.'\n",
      "C:\\Users\\kaust\\anaconda3\\lib\\site-packages\\statsmodels\\tsa\\statespace\\sarimax.py:997: UserWarning: Non-stationary starting seasonal autoregressive Using zeros as starting parameters.\n",
      "  warn('Non-stationary starting seasonal autoregressive'\n",
      "C:\\Users\\kaust\\anaconda3\\lib\\site-packages\\statsmodels\\base\\model.py:566: ConvergenceWarning: Maximum Likelihood optimization failed to converge. Check mle_retvals\n",
      "  warnings.warn(\"Maximum Likelihood optimization failed to \"\n",
      "C:\\Users\\kaust\\anaconda3\\lib\\site-packages\\statsmodels\\tsa\\statespace\\sarimax.py:978: UserWarning: Non-invertible starting MA parameters found. Using zeros as starting parameters.\n",
      "  warn('Non-invertible starting MA parameters found.'\n",
      "C:\\Users\\kaust\\anaconda3\\lib\\site-packages\\statsmodels\\base\\model.py:566: ConvergenceWarning: Maximum Likelihood optimization failed to converge. Check mle_retvals\n",
      "  warnings.warn(\"Maximum Likelihood optimization failed to \"\n",
      "C:\\Users\\kaust\\anaconda3\\lib\\site-packages\\statsmodels\\base\\model.py:566: ConvergenceWarning: Maximum Likelihood optimization failed to converge. Check mle_retvals\n",
      "  warnings.warn(\"Maximum Likelihood optimization failed to \"\n",
      "C:\\Users\\kaust\\anaconda3\\lib\\site-packages\\statsmodels\\base\\model.py:566: ConvergenceWarning: Maximum Likelihood optimization failed to converge. Check mle_retvals\n",
      "  warnings.warn(\"Maximum Likelihood optimization failed to \"\n",
      "C:\\Users\\kaust\\anaconda3\\lib\\site-packages\\statsmodels\\base\\model.py:566: ConvergenceWarning: Maximum Likelihood optimization failed to converge. Check mle_retvals\n",
      "  warnings.warn(\"Maximum Likelihood optimization failed to \"\n",
      "C:\\Users\\kaust\\anaconda3\\lib\\site-packages\\statsmodels\\base\\model.py:566: ConvergenceWarning: Maximum Likelihood optimization failed to converge. Check mle_retvals\n",
      "  warnings.warn(\"Maximum Likelihood optimization failed to \"\n",
      "C:\\Users\\kaust\\anaconda3\\lib\\site-packages\\statsmodels\\base\\model.py:566: ConvergenceWarning: Maximum Likelihood optimization failed to converge. Check mle_retvals\n",
      "  warnings.warn(\"Maximum Likelihood optimization failed to \"\n",
      "C:\\Users\\kaust\\anaconda3\\lib\\site-packages\\statsmodels\\base\\model.py:566: ConvergenceWarning: Maximum Likelihood optimization failed to converge. Check mle_retvals\n",
      "  warnings.warn(\"Maximum Likelihood optimization failed to \"\n",
      "C:\\Users\\kaust\\anaconda3\\lib\\site-packages\\statsmodels\\base\\model.py:566: ConvergenceWarning: Maximum Likelihood optimization failed to converge. Check mle_retvals\n",
      "  warnings.warn(\"Maximum Likelihood optimization failed to \"\n",
      "C:\\Users\\kaust\\anaconda3\\lib\\site-packages\\statsmodels\\base\\model.py:566: ConvergenceWarning: Maximum Likelihood optimization failed to converge. Check mle_retvals\n",
      "  warnings.warn(\"Maximum Likelihood optimization failed to \"\n",
      "C:\\Users\\kaust\\anaconda3\\lib\\site-packages\\statsmodels\\tsa\\statespace\\sarimax.py:966: UserWarning: Non-stationary starting autoregressive parameters found. Using zeros as starting parameters.\n",
      "  warn('Non-stationary starting autoregressive parameters'\n",
      "C:\\Users\\kaust\\anaconda3\\lib\\site-packages\\statsmodels\\base\\model.py:566: ConvergenceWarning: Maximum Likelihood optimization failed to converge. Check mle_retvals\n",
      "  warnings.warn(\"Maximum Likelihood optimization failed to \"\n",
      "C:\\Users\\kaust\\anaconda3\\lib\\site-packages\\statsmodels\\base\\model.py:566: ConvergenceWarning: Maximum Likelihood optimization failed to converge. Check mle_retvals\n",
      "  warnings.warn(\"Maximum Likelihood optimization failed to \"\n",
      "C:\\Users\\kaust\\anaconda3\\lib\\site-packages\\statsmodels\\base\\model.py:566: ConvergenceWarning: Maximum Likelihood optimization failed to converge. Check mle_retvals\n",
      "  warnings.warn(\"Maximum Likelihood optimization failed to \"\n",
      "C:\\Users\\kaust\\anaconda3\\lib\\site-packages\\statsmodels\\base\\model.py:566: ConvergenceWarning: Maximum Likelihood optimization failed to converge. Check mle_retvals\n",
      "  warnings.warn(\"Maximum Likelihood optimization failed to \"\n",
      "C:\\Users\\kaust\\anaconda3\\lib\\site-packages\\statsmodels\\base\\model.py:566: ConvergenceWarning: Maximum Likelihood optimization failed to converge. Check mle_retvals\n",
      "  warnings.warn(\"Maximum Likelihood optimization failed to \"\n",
      "C:\\Users\\kaust\\anaconda3\\lib\\site-packages\\statsmodels\\base\\model.py:566: ConvergenceWarning: Maximum Likelihood optimization failed to converge. Check mle_retvals\n",
      "  warnings.warn(\"Maximum Likelihood optimization failed to \"\n",
      "C:\\Users\\kaust\\anaconda3\\lib\\site-packages\\statsmodels\\base\\model.py:566: ConvergenceWarning: Maximum Likelihood optimization failed to converge. Check mle_retvals\n",
      "  warnings.warn(\"Maximum Likelihood optimization failed to \"\n",
      "C:\\Users\\kaust\\anaconda3\\lib\\site-packages\\statsmodels\\base\\model.py:566: ConvergenceWarning: Maximum Likelihood optimization failed to converge. Check mle_retvals\n",
      "  warnings.warn(\"Maximum Likelihood optimization failed to \"\n",
      "C:\\Users\\kaust\\anaconda3\\lib\\site-packages\\statsmodels\\base\\model.py:566: ConvergenceWarning: Maximum Likelihood optimization failed to converge. Check mle_retvals\n",
      "  warnings.warn(\"Maximum Likelihood optimization failed to \"\n",
      "C:\\Users\\kaust\\anaconda3\\lib\\site-packages\\statsmodels\\base\\model.py:566: ConvergenceWarning: Maximum Likelihood optimization failed to converge. Check mle_retvals\n",
      "  warnings.warn(\"Maximum Likelihood optimization failed to \"\n",
      "C:\\Users\\kaust\\anaconda3\\lib\\site-packages\\statsmodels\\base\\model.py:566: ConvergenceWarning: Maximum Likelihood optimization failed to converge. Check mle_retvals\n",
      "  warnings.warn(\"Maximum Likelihood optimization failed to \"\n",
      "C:\\Users\\kaust\\anaconda3\\lib\\site-packages\\statsmodels\\base\\model.py:566: ConvergenceWarning: Maximum Likelihood optimization failed to converge. Check mle_retvals\n",
      "  warnings.warn(\"Maximum Likelihood optimization failed to \"\n",
      "C:\\Users\\kaust\\anaconda3\\lib\\site-packages\\statsmodels\\base\\model.py:566: ConvergenceWarning: Maximum Likelihood optimization failed to converge. Check mle_retvals\n",
      "  warnings.warn(\"Maximum Likelihood optimization failed to \"\n",
      "C:\\Users\\kaust\\anaconda3\\lib\\site-packages\\statsmodels\\base\\model.py:566: ConvergenceWarning: Maximum Likelihood optimization failed to converge. Check mle_retvals\n",
      "  warnings.warn(\"Maximum Likelihood optimization failed to \"\n",
      "C:\\Users\\kaust\\anaconda3\\lib\\site-packages\\statsmodels\\base\\model.py:566: ConvergenceWarning: Maximum Likelihood optimization failed to converge. Check mle_retvals\n",
      "  warnings.warn(\"Maximum Likelihood optimization failed to \"\n",
      "C:\\Users\\kaust\\anaconda3\\lib\\site-packages\\statsmodels\\base\\model.py:566: ConvergenceWarning: Maximum Likelihood optimization failed to converge. Check mle_retvals\n",
      "  warnings.warn(\"Maximum Likelihood optimization failed to \"\n",
      "C:\\Users\\kaust\\anaconda3\\lib\\site-packages\\statsmodels\\base\\model.py:566: ConvergenceWarning: Maximum Likelihood optimization failed to converge. Check mle_retvals\n",
      "  warnings.warn(\"Maximum Likelihood optimization failed to \"\n",
      "C:\\Users\\kaust\\anaconda3\\lib\\site-packages\\statsmodels\\base\\model.py:566: ConvergenceWarning: Maximum Likelihood optimization failed to converge. Check mle_retvals\n",
      "  warnings.warn(\"Maximum Likelihood optimization failed to \"\n",
      "C:\\Users\\kaust\\anaconda3\\lib\\site-packages\\statsmodels\\base\\model.py:566: ConvergenceWarning: Maximum Likelihood optimization failed to converge. Check mle_retvals\n",
      "  warnings.warn(\"Maximum Likelihood optimization failed to \"\n",
      "C:\\Users\\kaust\\anaconda3\\lib\\site-packages\\statsmodels\\base\\model.py:566: ConvergenceWarning: Maximum Likelihood optimization failed to converge. Check mle_retvals\n",
      "  warnings.warn(\"Maximum Likelihood optimization failed to \"\n",
      "C:\\Users\\kaust\\anaconda3\\lib\\site-packages\\statsmodels\\base\\model.py:566: ConvergenceWarning: Maximum Likelihood optimization failed to converge. Check mle_retvals\n",
      "  warnings.warn(\"Maximum Likelihood optimization failed to \"\n",
      "C:\\Users\\kaust\\anaconda3\\lib\\site-packages\\statsmodels\\base\\model.py:566: ConvergenceWarning: Maximum Likelihood optimization failed to converge. Check mle_retvals\n",
      "  warnings.warn(\"Maximum Likelihood optimization failed to \"\n"
     ]
    },
    {
     "name": "stderr",
     "output_type": "stream",
     "text": [
      "C:\\Users\\kaust\\anaconda3\\lib\\site-packages\\statsmodels\\base\\model.py:566: ConvergenceWarning: Maximum Likelihood optimization failed to converge. Check mle_retvals\n",
      "  warnings.warn(\"Maximum Likelihood optimization failed to \"\n",
      "C:\\Users\\kaust\\anaconda3\\lib\\site-packages\\statsmodels\\base\\model.py:566: ConvergenceWarning: Maximum Likelihood optimization failed to converge. Check mle_retvals\n",
      "  warnings.warn(\"Maximum Likelihood optimization failed to \"\n",
      "C:\\Users\\kaust\\anaconda3\\lib\\site-packages\\statsmodels\\base\\model.py:566: ConvergenceWarning: Maximum Likelihood optimization failed to converge. Check mle_retvals\n",
      "  warnings.warn(\"Maximum Likelihood optimization failed to \"\n"
     ]
    }
   ],
   "source": [
    "len(combinations)\n",
    "\n",
    "for i in range(len(combinations)):\n",
    "    try:\n",
    "        model = sm.tsa.statespace.SARIMAX(monthly_series,order = arima_order[i],seasonal_order=seasonal_order[i])\n",
    "        result = model.fit()\n",
    "        results_data.loc[i,'p'] = arima_order[i][0]\n",
    "        results_data.loc[i,'d'] = arima_order[i][1]\n",
    "        results_data.loc[i,'q'] = arima_order[i][2]\n",
    "        results_data.loc[i,'P'] = seasonal_order[i][0]\n",
    "        results_data.loc[i,'D'] = seasonal_order[i][1]\n",
    "        results_data.loc[i,'Q'] = seasonal_order[i][2]\n",
    "        results_data.loc[i,'Aic'] = result.aic\n",
    "    except:\n",
    "        continue"
   ]
  },
  {
   "cell_type": "code",
   "execution_count": 93,
   "id": "0c5e30af",
   "metadata": {},
   "outputs": [
    {
     "data": {
      "text/html": [
       "<div>\n",
       "<style scoped>\n",
       "    .dataframe tbody tr th:only-of-type {\n",
       "        vertical-align: middle;\n",
       "    }\n",
       "\n",
       "    .dataframe tbody tr th {\n",
       "        vertical-align: top;\n",
       "    }\n",
       "\n",
       "    .dataframe thead th {\n",
       "        text-align: right;\n",
       "    }\n",
       "</style>\n",
       "<table border=\"1\" class=\"dataframe\">\n",
       "  <thead>\n",
       "    <tr style=\"text-align: right;\">\n",
       "      <th></th>\n",
       "      <th>p</th>\n",
       "      <th>d</th>\n",
       "      <th>q</th>\n",
       "      <th>P</th>\n",
       "      <th>D</th>\n",
       "      <th>Q</th>\n",
       "      <th>AIC</th>\n",
       "      <th>Aic</th>\n",
       "    </tr>\n",
       "  </thead>\n",
       "  <tbody>\n",
       "    <tr>\n",
       "      <th>0</th>\n",
       "      <td>0</td>\n",
       "      <td>0</td>\n",
       "      <td>0</td>\n",
       "      <td>0</td>\n",
       "      <td>0</td>\n",
       "      <td>0</td>\n",
       "      <td>NaN</td>\n",
       "      <td>1024.805968</td>\n",
       "    </tr>\n",
       "    <tr>\n",
       "      <th>1</th>\n",
       "      <td>0</td>\n",
       "      <td>0</td>\n",
       "      <td>0</td>\n",
       "      <td>0</td>\n",
       "      <td>0</td>\n",
       "      <td>1</td>\n",
       "      <td>NaN</td>\n",
       "      <td>1008.280232</td>\n",
       "    </tr>\n",
       "    <tr>\n",
       "      <th>2</th>\n",
       "      <td>0</td>\n",
       "      <td>0</td>\n",
       "      <td>0</td>\n",
       "      <td>0</td>\n",
       "      <td>0</td>\n",
       "      <td>2</td>\n",
       "      <td>NaN</td>\n",
       "      <td>1007.594422</td>\n",
       "    </tr>\n",
       "    <tr>\n",
       "      <th>3</th>\n",
       "      <td>0</td>\n",
       "      <td>0</td>\n",
       "      <td>0</td>\n",
       "      <td>0</td>\n",
       "      <td>1</td>\n",
       "      <td>0</td>\n",
       "      <td>NaN</td>\n",
       "      <td>678.327271</td>\n",
       "    </tr>\n",
       "    <tr>\n",
       "      <th>4</th>\n",
       "      <td>0</td>\n",
       "      <td>0</td>\n",
       "      <td>0</td>\n",
       "      <td>0</td>\n",
       "      <td>1</td>\n",
       "      <td>1</td>\n",
       "      <td>NaN</td>\n",
       "      <td>681.763356</td>\n",
       "    </tr>\n",
       "    <tr>\n",
       "      <th>...</th>\n",
       "      <td>...</td>\n",
       "      <td>...</td>\n",
       "      <td>...</td>\n",
       "      <td>...</td>\n",
       "      <td>...</td>\n",
       "      <td>...</td>\n",
       "      <td>...</td>\n",
       "      <td>...</td>\n",
       "    </tr>\n",
       "    <tr>\n",
       "      <th>724</th>\n",
       "      <td>2</td>\n",
       "      <td>2</td>\n",
       "      <td>2</td>\n",
       "      <td>2</td>\n",
       "      <td>1</td>\n",
       "      <td>1</td>\n",
       "      <td>NaN</td>\n",
       "      <td>594.401938</td>\n",
       "    </tr>\n",
       "    <tr>\n",
       "      <th>725</th>\n",
       "      <td>2</td>\n",
       "      <td>2</td>\n",
       "      <td>2</td>\n",
       "      <td>2</td>\n",
       "      <td>1</td>\n",
       "      <td>2</td>\n",
       "      <td>NaN</td>\n",
       "      <td>596.398113</td>\n",
       "    </tr>\n",
       "    <tr>\n",
       "      <th>726</th>\n",
       "      <td>2</td>\n",
       "      <td>2</td>\n",
       "      <td>2</td>\n",
       "      <td>2</td>\n",
       "      <td>2</td>\n",
       "      <td>0</td>\n",
       "      <td>NaN</td>\n",
       "      <td>14.000000</td>\n",
       "    </tr>\n",
       "    <tr>\n",
       "      <th>727</th>\n",
       "      <td>2</td>\n",
       "      <td>2</td>\n",
       "      <td>2</td>\n",
       "      <td>2</td>\n",
       "      <td>2</td>\n",
       "      <td>1</td>\n",
       "      <td>NaN</td>\n",
       "      <td>16.000000</td>\n",
       "    </tr>\n",
       "    <tr>\n",
       "      <th>728</th>\n",
       "      <td>2</td>\n",
       "      <td>2</td>\n",
       "      <td>2</td>\n",
       "      <td>2</td>\n",
       "      <td>2</td>\n",
       "      <td>2</td>\n",
       "      <td>NaN</td>\n",
       "      <td>18.000000</td>\n",
       "    </tr>\n",
       "  </tbody>\n",
       "</table>\n",
       "<p>728 rows × 8 columns</p>\n",
       "</div>"
      ],
      "text/plain": [
       "     p  d  q  P  D  Q  AIC          Aic\n",
       "0    0  0  0  0  0  0  NaN  1024.805968\n",
       "1    0  0  0  0  0  1  NaN  1008.280232\n",
       "2    0  0  0  0  0  2  NaN  1007.594422\n",
       "3    0  0  0  0  1  0  NaN   678.327271\n",
       "4    0  0  0  0  1  1  NaN   681.763356\n",
       "..  .. .. .. .. .. ..  ...          ...\n",
       "724  2  2  2  2  1  1  NaN   594.401938\n",
       "725  2  2  2  2  1  2  NaN   596.398113\n",
       "726  2  2  2  2  2  0  NaN    14.000000\n",
       "727  2  2  2  2  2  1  NaN    16.000000\n",
       "728  2  2  2  2  2  2  NaN    18.000000\n",
       "\n",
       "[728 rows x 8 columns]"
      ]
     },
     "execution_count": 93,
     "metadata": {},
     "output_type": "execute_result"
    }
   ],
   "source": [
    "results_data"
   ]
  },
  {
   "cell_type": "code",
   "execution_count": 96,
   "id": "7a863285",
   "metadata": {},
   "outputs": [
    {
     "data": {
      "text/html": [
       "<div>\n",
       "<style scoped>\n",
       "    .dataframe tbody tr th:only-of-type {\n",
       "        vertical-align: middle;\n",
       "    }\n",
       "\n",
       "    .dataframe tbody tr th {\n",
       "        vertical-align: top;\n",
       "    }\n",
       "\n",
       "    .dataframe thead th {\n",
       "        text-align: right;\n",
       "    }\n",
       "</style>\n",
       "<table border=\"1\" class=\"dataframe\">\n",
       "  <thead>\n",
       "    <tr style=\"text-align: right;\">\n",
       "      <th></th>\n",
       "      <th>p</th>\n",
       "      <th>d</th>\n",
       "      <th>q</th>\n",
       "      <th>P</th>\n",
       "      <th>D</th>\n",
       "      <th>Q</th>\n",
       "      <th>AIC</th>\n",
       "      <th>Aic</th>\n",
       "    </tr>\n",
       "  </thead>\n",
       "  <tbody>\n",
       "    <tr>\n",
       "      <th>708</th>\n",
       "      <td>2</td>\n",
       "      <td>2</td>\n",
       "      <td>2</td>\n",
       "      <td>0</td>\n",
       "      <td>2</td>\n",
       "      <td>0</td>\n",
       "      <td>NaN</td>\n",
       "      <td>10.0</td>\n",
       "    </tr>\n",
       "  </tbody>\n",
       "</table>\n",
       "</div>"
      ],
      "text/plain": [
       "     p  d  q  P  D  Q  AIC   Aic\n",
       "708  2  2  2  0  2  0  NaN  10.0"
      ]
     },
     "execution_count": 96,
     "metadata": {},
     "output_type": "execute_result"
    }
   ],
   "source": [
    "results_data[results_data.Aic == min(results_data.Aic)] "
   ]
  },
  {
   "cell_type": "markdown",
   "id": "9446c5de",
   "metadata": {},
   "source": [
    "### Make a plot with a forecast of 12 month ahead using the best fitted sarima."
   ]
  },
  {
   "cell_type": "code",
   "execution_count": 98,
   "id": "94267d73",
   "metadata": {},
   "outputs": [],
   "source": [
    "best_model = sm.tsa.statespace.SARIMAX(monthly_series, order = (2,2,2),\n",
    "                                      seasonal_order=(0,2,0,12))"
   ]
  },
  {
   "cell_type": "code",
   "execution_count": 100,
   "id": "a7a00bfa",
   "metadata": {},
   "outputs": [
    {
     "name": "stderr",
     "output_type": "stream",
     "text": [
      "C:\\Users\\kaust\\anaconda3\\lib\\site-packages\\statsmodels\\base\\model.py:566: ConvergenceWarning: Maximum Likelihood optimization failed to converge. Check mle_retvals\n",
      "  warnings.warn(\"Maximum Likelihood optimization failed to \"\n"
     ]
    }
   ],
   "source": [
    "results = best_model.fit()"
   ]
  },
  {
   "cell_type": "code",
   "execution_count": 109,
   "id": "dba207a4",
   "metadata": {},
   "outputs": [],
   "source": [
    "monthly_series\n",
    "fitting = results.get_prediction(start = '2009-12-31')"
   ]
  },
  {
   "cell_type": "code",
   "execution_count": 106,
   "id": "46556f3f",
   "metadata": {},
   "outputs": [],
   "source": [
    "fitting_mean = fitting.predicted_mean\n",
    "forecast = results.get_forecast(steps=12)\n",
    "forecast_mean = forecast.predicted_mean"
   ]
  },
  {
   "cell_type": "code",
   "execution_count": 107,
   "id": "b7ba1252",
   "metadata": {
    "scrolled": true
   },
   "outputs": [
    {
     "data": {
      "text/plain": [
       "<matplotlib.legend.Legend at 0x1de6ad7aa00>"
      ]
     },
     "execution_count": 107,
     "metadata": {},
     "output_type": "execute_result"
    },
    {
     "data": {
      "image/png": "[encoded data removed]",
      "text/plain": [
       "<Figure size 432x288 with 1 Axes>"
      ]
     },
     "metadata": {},
     "output_type": "display_data"
    }
   ],
   "source": [
    "fitting_mean.plot(label = 'Fitting')\n",
    "monthly_series.plot(label = 'Actual')\n",
    "forecast_mean.plot(label = 'Forecast')\n",
    "plt.legend(loc = 'upper left')"
   ]
  },
  {
   "cell_type": "markdown",
   "id": "6cf87720",
   "metadata": {},
   "source": [
    "## 8-\tMake an exponential fitting using the combinations of the multiplicative and additive trend "
   ]
  },
  {
   "cell_type": "code",
   "execution_count": 115,
   "id": "9d9ddf84",
   "metadata": {
    "scrolled": true
   },
   "outputs": [
    {
     "data": {
      "text/plain": [
       "379751.1608900829"
      ]
     },
     "execution_count": 115,
     "metadata": {},
     "output_type": "execute_result"
    }
   ],
   "source": [
    "mean_absolute_error = abs(monthly_series - fitting_mean).mean()\n",
    "mean_absolute_error"
   ]
  },
  {
   "cell_type": "code",
   "execution_count": 116,
   "id": "9575121c",
   "metadata": {},
   "outputs": [
    {
     "data": {
      "text/plain": [
       "statsmodels.tsa.holtwinters.model.ExponentialSmoothing"
      ]
     },
     "execution_count": 116,
     "metadata": {},
     "output_type": "execute_result"
    }
   ],
   "source": [
    "import statsmodels as sm\n",
    "sm.tsa.holtwinters.ExponentialSmoothing"
   ]
  },
  {
   "cell_type": "code",
   "execution_count": 117,
   "id": "25b25d92",
   "metadata": {},
   "outputs": [
    {
     "name": "stderr",
     "output_type": "stream",
     "text": [
      "C:\\Users\\kaust\\anaconda3\\lib\\site-packages\\statsmodels\\tsa\\holtwinters\\model.py:427: FutureWarning: After 0.13 initialization must be handled at model creation\n",
      "  warnings.warn(\n"
     ]
    }
   ],
   "source": [
    "model_expo1 = sm.tsa.holtwinters.ExponentialSmoothing(monthly_series, trend = 'add',\n",
    "                                                      seasonal = 'add', seasonal_periods=12)\n",
    "model_expo2 = sm.tsa.holtwinters.ExponentialSmoothing(monthly_series, trend = 'mul',\n",
    "                                                      seasonal = 'add', seasonal_periods=12)\n",
    "model_expo3 = sm.tsa.holtwinters.ExponentialSmoothing(monthly_series, trend = 'add',\n",
    "                                                      seasonal = 'mul', seasonal_periods=12)\n",
    "model_expo4 = sm.tsa.holtwinters.ExponentialSmoothing(monthly_series, trend = 'mul',\n",
    "                                                      seasonal = 'mul', seasonal_periods=12)"
   ]
  },
  {
   "cell_type": "code",
   "execution_count": 118,
   "id": "17986a01",
   "metadata": {},
   "outputs": [
    {
     "name": "stderr",
     "output_type": "stream",
     "text": [
      "C:\\Users\\kaust\\anaconda3\\lib\\site-packages\\statsmodels\\tsa\\holtwinters\\model.py:920: ConvergenceWarning: Optimization failed to converge. Check mle_retvals.\n",
      "  warnings.warn(\n",
      "C:\\Users\\kaust\\anaconda3\\lib\\site-packages\\statsmodels\\tsa\\holtwinters\\model.py:920: ConvergenceWarning: Optimization failed to converge. Check mle_retvals.\n",
      "  warnings.warn(\n",
      "C:\\Users\\kaust\\anaconda3\\lib\\site-packages\\statsmodels\\tsa\\holtwinters\\model.py:920: ConvergenceWarning: Optimization failed to converge. Check mle_retvals.\n",
      "  warnings.warn(\n",
      "C:\\Users\\kaust\\anaconda3\\lib\\site-packages\\statsmodels\\tsa\\holtwinters\\model.py:920: ConvergenceWarning: Optimization failed to converge. Check mle_retvals.\n",
      "  warnings.warn(\n"
     ]
    }
   ],
   "source": [
    "results_1 = model_expo1.fit()\n",
    "results_2 = model_expo2.fit()\n",
    "results_3 = model_expo3.fit()\n",
    "results_4 = model_expo4.fit()"
   ]
  },
  {
   "cell_type": "code",
   "execution_count": 119,
   "id": "80da1a6e",
   "metadata": {},
   "outputs": [
    {
     "data": {
      "text/html": [
       "<table class=\"simpletable\">\n",
       "<caption>ExponentialSmoothing Model Results</caption>\n",
       "<tr>\n",
       "  <th>Dep. Variable:</th>         <td>total_sales</td>     <th>  No. Observations:  </th>        <td>36</td>       \n",
       "</tr>\n",
       "<tr>\n",
       "  <th>Model:</th>            <td>ExponentialSmoothing</td> <th>  SSE                </th> <td>634967455438.406</td>\n",
       "</tr>\n",
       "<tr>\n",
       "  <th>Optimized:</th>                <td>True</td>         <th>  AIC                </th>      <td>881.360</td>    \n",
       "</tr>\n",
       "<tr>\n",
       "  <th>Trend:</th>                  <td>Additive</td>       <th>  BIC                </th>      <td>906.696</td>    \n",
       "</tr>\n",
       "<tr>\n",
       "  <th>Seasonal:</th>               <td>Additive</td>       <th>  AICC               </th>      <td>921.595</td>    \n",
       "</tr>\n",
       "<tr>\n",
       "  <th>Seasonal Periods:</th>          <td>12</td>          <th>  Date:              </th> <td>Sat, 19 Mar 2022</td>\n",
       "</tr>\n",
       "<tr>\n",
       "  <th>Box-Cox:</th>                  <td>False</td>        <th>  Time:              </th>     <td>14:31:15</td>    \n",
       "</tr>\n",
       "<tr>\n",
       "  <th>Box-Cox Coeff.:</th>           <td>None</td>         <th>                     </th>         <td> </td>       \n",
       "</tr>\n",
       "</table>\n",
       "<table class=\"simpletable\">\n",
       "<tr>\n",
       "           <td></td>                  <th>coeff</th>                <th>code</th>               <th>optimized</th>     \n",
       "</tr>\n",
       "<tr>\n",
       "  <th>smoothing_level</th>    <td>           0.5781182</td> <td>               alpha</td> <td>                True</td>\n",
       "</tr>\n",
       "<tr>\n",
       "  <th>smoothing_trend</th>    <td>           0.0370254</td> <td>                beta</td> <td>                True</td>\n",
       "</tr>\n",
       "<tr>\n",
       "  <th>smoothing_seasonal</th> <td>           0.4218818</td> <td>               gamma</td> <td>                True</td>\n",
       "</tr>\n",
       "<tr>\n",
       "  <th>initial_level</th>      <td>          2.6217e+05</td> <td>                 l.0</td> <td>                True</td>\n",
       "</tr>\n",
       "<tr>\n",
       "  <th>initial_trend</th>      <td>          -12336.590</td> <td>                 b.0</td> <td>                True</td>\n",
       "</tr>\n",
       "<tr>\n",
       "  <th>initial_seasons.0</th>  <td>         -2.3727e+05</td> <td>                 s.0</td> <td>                True</td>\n",
       "</tr>\n",
       "<tr>\n",
       "  <th>initial_seasons.1</th>  <td>         -2.3446e+05</td> <td>                 s.1</td> <td>                True</td>\n",
       "</tr>\n",
       "<tr>\n",
       "  <th>initial_seasons.2</th>  <td>         -2.1473e+05</td> <td>                 s.2</td> <td>                True</td>\n",
       "</tr>\n",
       "<tr>\n",
       "  <th>initial_seasons.3</th>  <td>         -2.4533e+05</td> <td>                 s.3</td> <td>                True</td>\n",
       "</tr>\n",
       "<tr>\n",
       "  <th>initial_seasons.4</th>  <td>         -2.6044e+05</td> <td>                 s.4</td> <td>                True</td>\n",
       "</tr>\n",
       "<tr>\n",
       "  <th>initial_seasons.5</th>  <td>          -2.559e+05</td> <td>                 s.5</td> <td>                True</td>\n",
       "</tr>\n",
       "<tr>\n",
       "  <th>initial_seasons.6</th>  <td>         -2.5029e+05</td> <td>                 s.6</td> <td>                True</td>\n",
       "</tr>\n",
       "<tr>\n",
       "  <th>initial_seasons.7</th>  <td>         -2.4303e+05</td> <td>                 s.7</td> <td>                True</td>\n",
       "</tr>\n",
       "<tr>\n",
       "  <th>initial_seasons.8</th>  <td>          -2.412e+05</td> <td>                 s.8</td> <td>                True</td>\n",
       "</tr>\n",
       "<tr>\n",
       "  <th>initial_seasons.9</th>  <td>         -2.4303e+05</td> <td>                 s.9</td> <td>                True</td>\n",
       "</tr>\n",
       "<tr>\n",
       "  <th>initial_seasons.10</th> <td>         -2.4944e+05</td> <td>                s.10</td> <td>                True</td>\n",
       "</tr>\n",
       "<tr>\n",
       "  <th>initial_seasons.11</th> <td>         -1.2664e+05</td> <td>                s.11</td> <td>                True</td>\n",
       "</tr>\n",
       "</table>"
      ],
      "text/plain": [
       "<class 'statsmodels.iolib.summary.Summary'>\n",
       "\"\"\"\n",
       "                       ExponentialSmoothing Model Results                       \n",
       "================================================================================\n",
       "Dep. Variable:              total_sales   No. Observations:                   36\n",
       "Model:             ExponentialSmoothing   SSE                   634967455438.406\n",
       "Optimized:                         True   AIC                            881.360\n",
       "Trend:                         Additive   BIC                            906.696\n",
       "Seasonal:                      Additive   AICC                           921.595\n",
       "Seasonal Periods:                    12   Date:                 Sat, 19 Mar 2022\n",
       "Box-Cox:                          False   Time:                         14:31:15\n",
       "Box-Cox Coeff.:                    None                                         \n",
       "=================================================================================\n",
       "                          coeff                 code              optimized      \n",
       "---------------------------------------------------------------------------------\n",
       "smoothing_level               0.5781182                alpha                 True\n",
       "smoothing_trend               0.0370254                 beta                 True\n",
       "smoothing_seasonal            0.4218818                gamma                 True\n",
       "initial_level                2.6217e+05                  l.0                 True\n",
       "initial_trend                -12336.590                  b.0                 True\n",
       "initial_seasons.0           -2.3727e+05                  s.0                 True\n",
       "initial_seasons.1           -2.3446e+05                  s.1                 True\n",
       "initial_seasons.2           -2.1473e+05                  s.2                 True\n",
       "initial_seasons.3           -2.4533e+05                  s.3                 True\n",
       "initial_seasons.4           -2.6044e+05                  s.4                 True\n",
       "initial_seasons.5            -2.559e+05                  s.5                 True\n",
       "initial_seasons.6           -2.5029e+05                  s.6                 True\n",
       "initial_seasons.7           -2.4303e+05                  s.7                 True\n",
       "initial_seasons.8            -2.412e+05                  s.8                 True\n",
       "initial_seasons.9           -2.4303e+05                  s.9                 True\n",
       "initial_seasons.10          -2.4944e+05                 s.10                 True\n",
       "initial_seasons.11          -1.2664e+05                 s.11                 True\n",
       "---------------------------------------------------------------------------------\n",
       "\"\"\""
      ]
     },
     "execution_count": 119,
     "metadata": {},
     "output_type": "execute_result"
    }
   ],
   "source": [
    "results_1.summary()"
   ]
  },
  {
   "cell_type": "code",
   "execution_count": 120,
   "id": "6b148efd",
   "metadata": {},
   "outputs": [
    {
     "data": {
      "text/html": [
       "<table class=\"simpletable\">\n",
       "<caption>ExponentialSmoothing Model Results</caption>\n",
       "<tr>\n",
       "  <th>Dep. Variable:</th>         <td>total_sales</td>     <th>  No. Observations:  </th>        <td>36</td>       \n",
       "</tr>\n",
       "<tr>\n",
       "  <th>Model:</th>            <td>ExponentialSmoothing</td> <th>  SSE                </th> <td>916573408346.698</td>\n",
       "</tr>\n",
       "<tr>\n",
       "  <th>Optimized:</th>                <td>True</td>         <th>  AIC                </th>      <td>894.574</td>    \n",
       "</tr>\n",
       "<tr>\n",
       "  <th>Trend:</th>               <td>Multiplicative</td>    <th>  BIC                </th>      <td>919.910</td>    \n",
       "</tr>\n",
       "<tr>\n",
       "  <th>Seasonal:</th>               <td>Additive</td>       <th>  AICC               </th>      <td>934.809</td>    \n",
       "</tr>\n",
       "<tr>\n",
       "  <th>Seasonal Periods:</th>          <td>12</td>          <th>  Date:              </th> <td>Sat, 19 Mar 2022</td>\n",
       "</tr>\n",
       "<tr>\n",
       "  <th>Box-Cox:</th>                  <td>False</td>        <th>  Time:              </th>     <td>14:31:34</td>    \n",
       "</tr>\n",
       "<tr>\n",
       "  <th>Box-Cox Coeff.:</th>           <td>None</td>         <th>                     </th>         <td> </td>       \n",
       "</tr>\n",
       "</table>\n",
       "<table class=\"simpletable\">\n",
       "<tr>\n",
       "           <td></td>                  <th>coeff</th>                <th>code</th>               <th>optimized</th>     \n",
       "</tr>\n",
       "<tr>\n",
       "  <th>smoothing_level</th>    <td>           0.7121429</td> <td>               alpha</td> <td>                True</td>\n",
       "</tr>\n",
       "<tr>\n",
       "  <th>smoothing_trend</th>    <td>           0.1483631</td> <td>                beta</td> <td>                True</td>\n",
       "</tr>\n",
       "<tr>\n",
       "  <th>smoothing_seasonal</th> <td>           0.2878571</td> <td>               gamma</td> <td>                True</td>\n",
       "</tr>\n",
       "<tr>\n",
       "  <th>initial_level</th>      <td>          2.6655e+05</td> <td>                 l.0</td> <td>                True</td>\n",
       "</tr>\n",
       "<tr>\n",
       "  <th>initial_trend</th>      <td>           1.2401241</td> <td>                 b.0</td> <td>                True</td>\n",
       "</tr>\n",
       "<tr>\n",
       "  <th>initial_seasons.0</th>  <td>         -2.4222e+05</td> <td>                 s.0</td> <td>                True</td>\n",
       "</tr>\n",
       "<tr>\n",
       "  <th>initial_seasons.1</th>  <td>         -2.3686e+05</td> <td>                 s.1</td> <td>                True</td>\n",
       "</tr>\n",
       "<tr>\n",
       "  <th>initial_seasons.2</th>  <td>         -2.1854e+05</td> <td>                 s.2</td> <td>                True</td>\n",
       "</tr>\n",
       "<tr>\n",
       "  <th>initial_seasons.3</th>  <td>          -2.466e+05</td> <td>                 s.3</td> <td>                True</td>\n",
       "</tr>\n",
       "<tr>\n",
       "  <th>initial_seasons.4</th>  <td>         -2.6143e+05</td> <td>                 s.4</td> <td>                True</td>\n",
       "</tr>\n",
       "<tr>\n",
       "  <th>initial_seasons.5</th>  <td>         -2.5505e+05</td> <td>                 s.5</td> <td>                True</td>\n",
       "</tr>\n",
       "<tr>\n",
       "  <th>initial_seasons.6</th>  <td>         -2.5099e+05</td> <td>                 s.6</td> <td>                True</td>\n",
       "</tr>\n",
       "<tr>\n",
       "  <th>initial_seasons.7</th>  <td>          -2.443e+05</td> <td>                 s.7</td> <td>                True</td>\n",
       "</tr>\n",
       "<tr>\n",
       "  <th>initial_seasons.8</th>  <td>         -2.5067e+05</td> <td>                 s.8</td> <td>                True</td>\n",
       "</tr>\n",
       "<tr>\n",
       "  <th>initial_seasons.9</th>  <td>         -2.4402e+05</td> <td>                 s.9</td> <td>                True</td>\n",
       "</tr>\n",
       "<tr>\n",
       "  <th>initial_seasons.10</th> <td>         -2.4534e+05</td> <td>                s.10</td> <td>                True</td>\n",
       "</tr>\n",
       "<tr>\n",
       "  <th>initial_seasons.11</th> <td>         -1.0389e+05</td> <td>                s.11</td> <td>                True</td>\n",
       "</tr>\n",
       "</table>"
      ],
      "text/plain": [
       "<class 'statsmodels.iolib.summary.Summary'>\n",
       "\"\"\"\n",
       "                       ExponentialSmoothing Model Results                       \n",
       "================================================================================\n",
       "Dep. Variable:              total_sales   No. Observations:                   36\n",
       "Model:             ExponentialSmoothing   SSE                   916573408346.698\n",
       "Optimized:                         True   AIC                            894.574\n",
       "Trend:                   Multiplicative   BIC                            919.910\n",
       "Seasonal:                      Additive   AICC                           934.809\n",
       "Seasonal Periods:                    12   Date:                 Sat, 19 Mar 2022\n",
       "Box-Cox:                          False   Time:                         14:31:34\n",
       "Box-Cox Coeff.:                    None                                         \n",
       "=================================================================================\n",
       "                          coeff                 code              optimized      \n",
       "---------------------------------------------------------------------------------\n",
       "smoothing_level               0.7121429                alpha                 True\n",
       "smoothing_trend               0.1483631                 beta                 True\n",
       "smoothing_seasonal            0.2878571                gamma                 True\n",
       "initial_level                2.6655e+05                  l.0                 True\n",
       "initial_trend                 1.2401241                  b.0                 True\n",
       "initial_seasons.0           -2.4222e+05                  s.0                 True\n",
       "initial_seasons.1           -2.3686e+05                  s.1                 True\n",
       "initial_seasons.2           -2.1854e+05                  s.2                 True\n",
       "initial_seasons.3            -2.466e+05                  s.3                 True\n",
       "initial_seasons.4           -2.6143e+05                  s.4                 True\n",
       "initial_seasons.5           -2.5505e+05                  s.5                 True\n",
       "initial_seasons.6           -2.5099e+05                  s.6                 True\n",
       "initial_seasons.7            -2.443e+05                  s.7                 True\n",
       "initial_seasons.8           -2.5067e+05                  s.8                 True\n",
       "initial_seasons.9           -2.4402e+05                  s.9                 True\n",
       "initial_seasons.10          -2.4534e+05                 s.10                 True\n",
       "initial_seasons.11          -1.0389e+05                 s.11                 True\n",
       "---------------------------------------------------------------------------------\n",
       "\"\"\""
      ]
     },
     "execution_count": 120,
     "metadata": {},
     "output_type": "execute_result"
    }
   ],
   "source": [
    "results_2.summary()"
   ]
  },
  {
   "cell_type": "code",
   "execution_count": 121,
   "id": "f2b6e19c",
   "metadata": {},
   "outputs": [
    {
     "data": {
      "text/html": [
       "<table class=\"simpletable\">\n",
       "<caption>ExponentialSmoothing Model Results</caption>\n",
       "<tr>\n",
       "  <th>Dep. Variable:</th>         <td>total_sales</td>     <th>  No. Observations:  </th>        <td>36</td>        \n",
       "</tr>\n",
       "<tr>\n",
       "  <th>Model:</th>            <td>ExponentialSmoothing</td> <th>  SSE                </th> <td>2348273668832.220</td>\n",
       "</tr>\n",
       "<tr>\n",
       "  <th>Optimized:</th>                <td>True</td>         <th>  AIC                </th>      <td>928.443</td>     \n",
       "</tr>\n",
       "<tr>\n",
       "  <th>Trend:</th>                  <td>Additive</td>       <th>  BIC                </th>      <td>953.779</td>     \n",
       "</tr>\n",
       "<tr>\n",
       "  <th>Seasonal:</th>            <td>Multiplicative</td>    <th>  AICC               </th>      <td>968.678</td>     \n",
       "</tr>\n",
       "<tr>\n",
       "  <th>Seasonal Periods:</th>          <td>12</td>          <th>  Date:              </th> <td>Sat, 19 Mar 2022</td> \n",
       "</tr>\n",
       "<tr>\n",
       "  <th>Box-Cox:</th>                  <td>False</td>        <th>  Time:              </th>     <td>14:31:51</td>     \n",
       "</tr>\n",
       "<tr>\n",
       "  <th>Box-Cox Coeff.:</th>           <td>None</td>         <th>                     </th>         <td> </td>        \n",
       "</tr>\n",
       "</table>\n",
       "<table class=\"simpletable\">\n",
       "<tr>\n",
       "           <td></td>                  <th>coeff</th>                <th>code</th>               <th>optimized</th>     \n",
       "</tr>\n",
       "<tr>\n",
       "  <th>smoothing_level</th>    <td>           0.0050000</td> <td>               alpha</td> <td>                True</td>\n",
       "</tr>\n",
       "<tr>\n",
       "  <th>smoothing_trend</th>    <td>              0.0001</td> <td>                beta</td> <td>                True</td>\n",
       "</tr>\n",
       "<tr>\n",
       "  <th>smoothing_seasonal</th> <td>           0.5330357</td> <td>               gamma</td> <td>                True</td>\n",
       "</tr>\n",
       "<tr>\n",
       "  <th>initial_level</th>      <td>          2.6655e+05</td> <td>                 l.0</td> <td>                True</td>\n",
       "</tr>\n",
       "<tr>\n",
       "  <th>initial_trend</th>      <td>           33864.340</td> <td>                 b.0</td> <td>                True</td>\n",
       "</tr>\n",
       "<tr>\n",
       "  <th>initial_seasons.0</th>  <td>           0.0912957</td> <td>                 s.0</td> <td>                True</td>\n",
       "</tr>\n",
       "<tr>\n",
       "  <th>initial_seasons.1</th>  <td>           0.1113894</td> <td>                 s.1</td> <td>                True</td>\n",
       "</tr>\n",
       "<tr>\n",
       "  <th>initial_seasons.2</th>  <td>           0.1801192</td> <td>                 s.2</td> <td>                True</td>\n",
       "</tr>\n",
       "<tr>\n",
       "  <th>initial_seasons.3</th>  <td>           0.0748599</td> <td>                 s.3</td> <td>                True</td>\n",
       "</tr>\n",
       "<tr>\n",
       "  <th>initial_seasons.4</th>  <td>           0.0192046</td> <td>                 s.4</td> <td>                True</td>\n",
       "</tr>\n",
       "<tr>\n",
       "  <th>initial_seasons.5</th>  <td>           0.0431512</td> <td>                 s.5</td> <td>                True</td>\n",
       "</tr>\n",
       "<tr>\n",
       "  <th>initial_seasons.6</th>  <td>           0.0583677</td> <td>                 s.6</td> <td>                True</td>\n",
       "</tr>\n",
       "<tr>\n",
       "  <th>initial_seasons.7</th>  <td>           0.0834886</td> <td>                 s.7</td> <td>                True</td>\n",
       "</tr>\n",
       "<tr>\n",
       "  <th>initial_seasons.8</th>  <td>           0.0595795</td> <td>                 s.8</td> <td>                True</td>\n",
       "</tr>\n",
       "<tr>\n",
       "  <th>initial_seasons.9</th>  <td>           0.0845391</td> <td>                 s.9</td> <td>                True</td>\n",
       "</tr>\n",
       "<tr>\n",
       "  <th>initial_seasons.10</th> <td>           0.0795794</td> <td>                s.10</td> <td>                True</td>\n",
       "</tr>\n",
       "<tr>\n",
       "  <th>initial_seasons.11</th> <td>           0.6102277</td> <td>                s.11</td> <td>                True</td>\n",
       "</tr>\n",
       "</table>"
      ],
      "text/plain": [
       "<class 'statsmodels.iolib.summary.Summary'>\n",
       "\"\"\"\n",
       "                       ExponentialSmoothing Model Results                       \n",
       "================================================================================\n",
       "Dep. Variable:              total_sales   No. Observations:                   36\n",
       "Model:             ExponentialSmoothing   SSE                  2348273668832.220\n",
       "Optimized:                         True   AIC                            928.443\n",
       "Trend:                         Additive   BIC                            953.779\n",
       "Seasonal:                Multiplicative   AICC                           968.678\n",
       "Seasonal Periods:                    12   Date:                 Sat, 19 Mar 2022\n",
       "Box-Cox:                          False   Time:                         14:31:51\n",
       "Box-Cox Coeff.:                    None                                         \n",
       "=================================================================================\n",
       "                          coeff                 code              optimized      \n",
       "---------------------------------------------------------------------------------\n",
       "smoothing_level               0.0050000                alpha                 True\n",
       "smoothing_trend                  0.0001                 beta                 True\n",
       "smoothing_seasonal            0.5330357                gamma                 True\n",
       "initial_level                2.6655e+05                  l.0                 True\n",
       "initial_trend                 33864.340                  b.0                 True\n",
       "initial_seasons.0             0.0912957                  s.0                 True\n",
       "initial_seasons.1             0.1113894                  s.1                 True\n",
       "initial_seasons.2             0.1801192                  s.2                 True\n",
       "initial_seasons.3             0.0748599                  s.3                 True\n",
       "initial_seasons.4             0.0192046                  s.4                 True\n",
       "initial_seasons.5             0.0431512                  s.5                 True\n",
       "initial_seasons.6             0.0583677                  s.6                 True\n",
       "initial_seasons.7             0.0834886                  s.7                 True\n",
       "initial_seasons.8             0.0595795                  s.8                 True\n",
       "initial_seasons.9             0.0845391                  s.9                 True\n",
       "initial_seasons.10            0.0795794                 s.10                 True\n",
       "initial_seasons.11            0.6102277                 s.11                 True\n",
       "---------------------------------------------------------------------------------\n",
       "\"\"\""
      ]
     },
     "execution_count": 121,
     "metadata": {},
     "output_type": "execute_result"
    }
   ],
   "source": [
    "results_3.summary()"
   ]
  },
  {
   "cell_type": "code",
   "execution_count": 122,
   "id": "0f0a7c5d",
   "metadata": {},
   "outputs": [
    {
     "data": {
      "text/html": [
       "<table class=\"simpletable\">\n",
       "<caption>ExponentialSmoothing Model Results</caption>\n",
       "<tr>\n",
       "  <th>Dep. Variable:</th>         <td>total_sales</td>     <th>  No. Observations:  </th>         <td>36</td>        \n",
       "</tr>\n",
       "<tr>\n",
       "  <th>Model:</th>            <td>ExponentialSmoothing</td> <th>  SSE                </th> <td>51805384726532.852</td>\n",
       "</tr>\n",
       "<tr>\n",
       "  <th>Optimized:</th>                <td>True</td>         <th>  AIC                </th>      <td>1039.820</td>     \n",
       "</tr>\n",
       "<tr>\n",
       "  <th>Trend:</th>               <td>Multiplicative</td>    <th>  BIC                </th>      <td>1065.156</td>     \n",
       "</tr>\n",
       "<tr>\n",
       "  <th>Seasonal:</th>            <td>Multiplicative</td>    <th>  AICC               </th>      <td>1080.055</td>     \n",
       "</tr>\n",
       "<tr>\n",
       "  <th>Seasonal Periods:</th>          <td>12</td>          <th>  Date:              </th>  <td>Sat, 19 Mar 2022</td> \n",
       "</tr>\n",
       "<tr>\n",
       "  <th>Box-Cox:</th>                  <td>False</td>        <th>  Time:              </th>      <td>14:32:04</td>     \n",
       "</tr>\n",
       "<tr>\n",
       "  <th>Box-Cox Coeff.:</th>           <td>None</td>         <th>                     </th>          <td> </td>        \n",
       "</tr>\n",
       "</table>\n",
       "<table class=\"simpletable\">\n",
       "<tr>\n",
       "           <td></td>                  <th>coeff</th>                <th>code</th>               <th>optimized</th>     \n",
       "</tr>\n",
       "<tr>\n",
       "  <th>smoothing_level</th>    <td>           0.8535714</td> <td>               alpha</td> <td>                True</td>\n",
       "</tr>\n",
       "<tr>\n",
       "  <th>smoothing_trend</th>    <td>              0.0001</td> <td>                beta</td> <td>                True</td>\n",
       "</tr>\n",
       "<tr>\n",
       "  <th>smoothing_seasonal</th> <td>           0.1464286</td> <td>               gamma</td> <td>                True</td>\n",
       "</tr>\n",
       "<tr>\n",
       "  <th>initial_level</th>      <td>          2.6655e+05</td> <td>                 l.0</td> <td>                True</td>\n",
       "</tr>\n",
       "<tr>\n",
       "  <th>initial_trend</th>      <td>           1.2401241</td> <td>                 b.0</td> <td>                True</td>\n",
       "</tr>\n",
       "<tr>\n",
       "  <th>initial_seasons.0</th>  <td>           0.0912957</td> <td>                 s.0</td> <td>                True</td>\n",
       "</tr>\n",
       "<tr>\n",
       "  <th>initial_seasons.1</th>  <td>           0.1113894</td> <td>                 s.1</td> <td>                True</td>\n",
       "</tr>\n",
       "<tr>\n",
       "  <th>initial_seasons.2</th>  <td>           0.1801192</td> <td>                 s.2</td> <td>                True</td>\n",
       "</tr>\n",
       "<tr>\n",
       "  <th>initial_seasons.3</th>  <td>           0.0748599</td> <td>                 s.3</td> <td>                True</td>\n",
       "</tr>\n",
       "<tr>\n",
       "  <th>initial_seasons.4</th>  <td>           0.0192046</td> <td>                 s.4</td> <td>                True</td>\n",
       "</tr>\n",
       "<tr>\n",
       "  <th>initial_seasons.5</th>  <td>           0.0431512</td> <td>                 s.5</td> <td>                True</td>\n",
       "</tr>\n",
       "<tr>\n",
       "  <th>initial_seasons.6</th>  <td>           0.0583677</td> <td>                 s.6</td> <td>                True</td>\n",
       "</tr>\n",
       "<tr>\n",
       "  <th>initial_seasons.7</th>  <td>           0.0834886</td> <td>                 s.7</td> <td>                True</td>\n",
       "</tr>\n",
       "<tr>\n",
       "  <th>initial_seasons.8</th>  <td>           0.0595795</td> <td>                 s.8</td> <td>                True</td>\n",
       "</tr>\n",
       "<tr>\n",
       "  <th>initial_seasons.9</th>  <td>           0.0845391</td> <td>                 s.9</td> <td>                True</td>\n",
       "</tr>\n",
       "<tr>\n",
       "  <th>initial_seasons.10</th> <td>           0.0795794</td> <td>                s.10</td> <td>                True</td>\n",
       "</tr>\n",
       "<tr>\n",
       "  <th>initial_seasons.11</th> <td>           0.6102277</td> <td>                s.11</td> <td>                True</td>\n",
       "</tr>\n",
       "</table>"
      ],
      "text/plain": [
       "<class 'statsmodels.iolib.summary.Summary'>\n",
       "\"\"\"\n",
       "                       ExponentialSmoothing Model Results                       \n",
       "================================================================================\n",
       "Dep. Variable:              total_sales   No. Observations:                   36\n",
       "Model:             ExponentialSmoothing   SSE                 51805384726532.852\n",
       "Optimized:                         True   AIC                           1039.820\n",
       "Trend:                   Multiplicative   BIC                           1065.156\n",
       "Seasonal:                Multiplicative   AICC                          1080.055\n",
       "Seasonal Periods:                    12   Date:                 Sat, 19 Mar 2022\n",
       "Box-Cox:                          False   Time:                         14:32:04\n",
       "Box-Cox Coeff.:                    None                                         \n",
       "=================================================================================\n",
       "                          coeff                 code              optimized      \n",
       "---------------------------------------------------------------------------------\n",
       "smoothing_level               0.8535714                alpha                 True\n",
       "smoothing_trend                  0.0001                 beta                 True\n",
       "smoothing_seasonal            0.1464286                gamma                 True\n",
       "initial_level                2.6655e+05                  l.0                 True\n",
       "initial_trend                 1.2401241                  b.0                 True\n",
       "initial_seasons.0             0.0912957                  s.0                 True\n",
       "initial_seasons.1             0.1113894                  s.1                 True\n",
       "initial_seasons.2             0.1801192                  s.2                 True\n",
       "initial_seasons.3             0.0748599                  s.3                 True\n",
       "initial_seasons.4             0.0192046                  s.4                 True\n",
       "initial_seasons.5             0.0431512                  s.5                 True\n",
       "initial_seasons.6             0.0583677                  s.6                 True\n",
       "initial_seasons.7             0.0834886                  s.7                 True\n",
       "initial_seasons.8             0.0595795                  s.8                 True\n",
       "initial_seasons.9             0.0845391                  s.9                 True\n",
       "initial_seasons.10            0.0795794                 s.10                 True\n",
       "initial_seasons.11            0.6102277                 s.11                 True\n",
       "---------------------------------------------------------------------------------\n",
       "\"\"\""
      ]
     },
     "execution_count": 122,
     "metadata": {},
     "output_type": "execute_result"
    }
   ],
   "source": [
    "results_4.summary()"
   ]
  },
  {
   "cell_type": "code",
   "execution_count": 123,
   "id": "6d33c800",
   "metadata": {},
   "outputs": [
    {
     "name": "stderr",
     "output_type": "stream",
     "text": [
      "C:\\Users\\kaust\\anaconda3\\lib\\site-packages\\statsmodels\\tsa\\holtwinters\\model.py:920: ConvergenceWarning: Optimization failed to converge. Check mle_retvals.\n",
      "  warnings.warn(\n",
      "C:\\Users\\kaust\\anaconda3\\lib\\site-packages\\statsmodels\\tsa\\holtwinters\\model.py:920: ConvergenceWarning: Optimization failed to converge. Check mle_retvals.\n",
      "  warnings.warn(\n",
      "C:\\Users\\kaust\\anaconda3\\lib\\site-packages\\statsmodels\\tsa\\holtwinters\\model.py:920: ConvergenceWarning: Optimization failed to converge. Check mle_retvals.\n",
      "  warnings.warn(\n",
      "C:\\Users\\kaust\\anaconda3\\lib\\site-packages\\statsmodels\\tsa\\holtwinters\\model.py:920: ConvergenceWarning: Optimization failed to converge. Check mle_retvals.\n",
      "  warnings.warn(\n"
     ]
    }
   ],
   "source": [
    "fit1 = model_expo1.fit().predict(0,len(monthly_series))\n",
    "fit2 = model_expo2.fit().predict(0,len(monthly_series))\n",
    "fit3 = model_expo3.fit().predict(0,len(monthly_series))\n",
    "fit4 = model_expo4.fit().predict(0,len(monthly_series))"
   ]
  },
  {
   "cell_type": "code",
   "execution_count": 124,
   "id": "03d5ea38",
   "metadata": {},
   "outputs": [
    {
     "name": "stdout",
     "output_type": "stream",
     "text": [
      "mae1= 82358.38977092694\n",
      "mae2= 104101.78478249692\n",
      "mae3= 187167.68409530574\n",
      "mae4= 451253.32206748443\n"
     ]
    }
   ],
   "source": [
    "mae1 = abs(monthly_series - fit1).mean()\n",
    "mae2 = abs(monthly_series - fit2).mean()\n",
    "mae3 = abs(monthly_series - fit3).mean()\n",
    "mae4 = abs(monthly_series - fit4).mean()\n",
    "print('mae1=', mae1)\n",
    "print('mae2=', mae2)\n",
    "print('mae3=', mae3)\n",
    "print('mae4=', mae4)"
   ]
  },
  {
   "cell_type": "markdown",
   "id": "61b1f3dd",
   "metadata": {},
   "source": [
    "## Compared to best fitted model would be exponential model with seasonality and trend being additive "
   ]
  },
  {
   "cell_type": "markdown",
   "id": "d9924b54",
   "metadata": {},
   "source": [
    "## Forecast for next 12 months"
   ]
  },
  {
   "cell_type": "code",
   "execution_count": 125,
   "id": "82371f44",
   "metadata": {},
   "outputs": [
    {
     "name": "stderr",
     "output_type": "stream",
     "text": [
      "C:\\Users\\kaust\\anaconda3\\lib\\site-packages\\statsmodels\\tsa\\holtwinters\\model.py:920: ConvergenceWarning: Optimization failed to converge. Check mle_retvals.\n",
      "  warnings.warn(\n"
     ]
    }
   ],
   "source": [
    "forecast = model_expo1.fit().predict(0,len(monthly_series)+12)"
   ]
  },
  {
   "cell_type": "code",
   "execution_count": 126,
   "id": "a295ba06",
   "metadata": {},
   "outputs": [
    {
     "data": {
      "text/plain": [
       "<matplotlib.legend.Legend at 0x1de6b1dbe50>"
      ]
     },
     "execution_count": 126,
     "metadata": {},
     "output_type": "execute_result"
    },
    {
     "data": {
      "image/png": "[encoded data removed]",
      "text/plain": [
       "<Figure size 432x288 with 1 Axes>"
      ]
     },
     "metadata": {},
     "output_type": "display_data"
    }
   ],
   "source": [
    "monthly_series.plot(label = 'actual')\n",
    "forecast.plot(label = 'forecast')\n",
    "plt.legend(loc = 'upper right')"
   ]
  },
  {
   "cell_type": "code",
   "execution_count": null,
   "id": "14a80888",
   "metadata": {},
   "outputs": [],
   "source": []
  }
 ],
 "metadata": {
  "kernelspec": {
   "display_name": "Python 3 (ipykernel)",
   "language": "python",
   "name": "python3"
  },
  "language_info": {
   "codemirror_mode": {
    "name": "ipython",
    "version": 3
   },
   "file_extension": ".py",
   "mimetype": "text/x-python",
   "name": "python",
   "nbconvert_exporter": "python",
   "pygments_lexer": "ipython3",
   "version": "3.8.5"
  }
 },
 "nbformat": 4,
 "nbformat_minor": 5
}
